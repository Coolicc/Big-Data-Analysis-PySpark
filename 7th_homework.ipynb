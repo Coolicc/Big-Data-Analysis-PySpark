{
  "nbformat": 4,
  "nbformat_minor": 0,
  "metadata": {
    "colab": {
      "name": "Ognjen Kulic - 7. čas - GraphFrame ",
      "provenance": [],
      "collapsed_sections": [],
      "toc_visible": true,
      "include_colab_link": true
    },
    "kernelspec": {
      "name": "python3",
      "display_name": "Python 3"
    },
    "accelerator": "TPU"
  },
  "cells": [
    {
      "cell_type": "markdown",
      "metadata": {
        "id": "view-in-github",
        "colab_type": "text"
      },
      "source": [
        "<a href=\"https://colab.research.google.com/github/Coolicc/Big-Data-Analysis-PySpark/blob/main/7th_homework.ipynb\" target=\"_parent\"><img src=\"https://colab.research.google.com/assets/colab-badge.svg\" alt=\"Open In Colab\"/></a>"
      ]
    },
    {
      "cell_type": "markdown",
      "metadata": {
        "id": "jzPvCGFSrYjH"
      },
      "source": [
        "####Podešavanje Sparka za rad u Google Colabu\n",
        "#####Izvršite sve komande u datom redosledu"
      ]
    },
    {
      "cell_type": "code",
      "metadata": {
        "id": "ZnCsTrP5IYRa",
        "outputId": "5c0eba1f-0e0d-4363-d1a5-071ed16006a5",
        "colab": {
          "base_uri": "https://localhost:8080/",
          "height": 129
        }
      },
      "source": [
        "from google.colab import drive\n",
        "drive.mount('/content/drive')"
      ],
      "execution_count": null,
      "outputs": [
        {
          "output_type": "stream",
          "text": [
            "Go to this URL in a browser: https://accounts.google.com/o/oauth2/auth?client_id=947318989803-6bn6qk8qdgf4n4g3pfee6491hc0brc4i.apps.googleusercontent.com&redirect_uri=urn%3aietf%3awg%3aoauth%3a2.0%3aoob&response_type=code&scope=email%20https%3a%2f%2fwww.googleapis.com%2fauth%2fdocs.test%20https%3a%2f%2fwww.googleapis.com%2fauth%2fdrive%20https%3a%2f%2fwww.googleapis.com%2fauth%2fdrive.photos.readonly%20https%3a%2f%2fwww.googleapis.com%2fauth%2fpeopleapi.readonly\n",
            "\n",
            "Enter your authorization code:\n",
            "··········\n",
            "Mounted at /content/drive\n"
          ],
          "name": "stdout"
        }
      ]
    },
    {
      "cell_type": "code",
      "metadata": {
        "id": "GzdA3TFF_vvd",
        "outputId": "233ff041-5e3f-44e6-8b13-88568d89f87e",
        "colab": {
          "base_uri": "https://localhost:8080/",
          "height": 182
        }
      },
      "source": [
        "!update-alternatives --config java"
      ],
      "execution_count": null,
      "outputs": [
        {
          "output_type": "stream",
          "text": [
            "There are 2 choices for the alternative java (providing /usr/bin/java).\n",
            "\n",
            "  Selection    Path                                            Priority   Status\n",
            "------------------------------------------------------------\n",
            "* 0            /usr/lib/jvm/java-11-openjdk-amd64/bin/java      1111      auto mode\n",
            "  1            /usr/lib/jvm/java-11-openjdk-amd64/bin/java      1111      manual mode\n",
            "  2            /usr/lib/jvm/java-8-openjdk-amd64/jre/bin/java   1081      manual mode\n",
            "\n",
            "Press <enter> to keep the current choice[*], or type selection number: \n"
          ],
          "name": "stdout"
        }
      ]
    },
    {
      "cell_type": "code",
      "metadata": {
        "id": "2_zujIW1nrTM"
      },
      "source": [
        "import os\n",
        "os.environ[\"JAVA_HOME\"] = \"/usr/lib/jvm/java-8-openjdk-amd64\""
      ],
      "execution_count": null,
      "outputs": []
    },
    {
      "cell_type": "code",
      "metadata": {
        "id": "6k-NHUISr6lr",
        "outputId": "a9f786aa-9b30-4290-991d-741f6e943cbf",
        "colab": {
          "base_uri": "https://localhost:8080/",
          "height": 256
        }
      },
      "source": [
        "!pip install pyspark"
      ],
      "execution_count": null,
      "outputs": [
        {
          "output_type": "stream",
          "text": [
            "Collecting pyspark\n",
            "\u001b[?25l  Downloading https://files.pythonhosted.org/packages/9a/5a/271c416c1c2185b6cb0151b29a91fff6fcaed80173c8584ff6d20e46b465/pyspark-2.4.5.tar.gz (217.8MB)\n",
            "\u001b[K     |████████████████████████████████| 217.8MB 62kB/s \n",
            "\u001b[?25hCollecting py4j==0.10.7\n",
            "\u001b[?25l  Downloading https://files.pythonhosted.org/packages/e3/53/c737818eb9a7dc32a7cd4f1396e787bd94200c3997c72c1dbe028587bd76/py4j-0.10.7-py2.py3-none-any.whl (197kB)\n",
            "\u001b[K     |████████████████████████████████| 204kB 44.1MB/s \n",
            "\u001b[?25hBuilding wheels for collected packages: pyspark\n",
            "  Building wheel for pyspark (setup.py) ... \u001b[?25l\u001b[?25hdone\n",
            "  Created wheel for pyspark: filename=pyspark-2.4.5-py2.py3-none-any.whl size=218257927 sha256=61dd4cb5af0340c4b36d2d15592018828fdd3f29c627f75d8e38465de1ea230a\n",
            "  Stored in directory: /root/.cache/pip/wheels/bf/db/04/61d66a5939364e756eb1c1be4ec5bdce6e04047fc7929a3c3c\n",
            "Successfully built pyspark\n",
            "Installing collected packages: py4j, pyspark\n",
            "Successfully installed py4j-0.10.7 pyspark-2.4.5\n"
          ],
          "name": "stdout"
        }
      ]
    },
    {
      "cell_type": "markdown",
      "metadata": {
        "id": "nChNMCNbPlIv"
      },
      "source": [
        "####Instaliranje GraphFrame-a\n",
        "obavezno izvršiti pre kreiranja SparkSession objekta"
      ]
    },
    {
      "cell_type": "code",
      "metadata": {
        "id": "klSDmqTVrbF8",
        "outputId": "fc793ae4-aba7-4017-b659-bbe21aff371a",
        "colab": {
          "base_uri": "https://localhost:8080/",
          "height": 164
        }
      },
      "source": [
        "!pip install graphframes"
      ],
      "execution_count": null,
      "outputs": [
        {
          "output_type": "stream",
          "text": [
            "Collecting graphframes\n",
            "  Downloading https://files.pythonhosted.org/packages/0b/27/c7c7e1ced2fe9a905f865dd91faaec2ac8a8e313f511678c8ec92a41a153/graphframes-0.6-py2.py3-none-any.whl\n",
            "Requirement already satisfied: numpy in /usr/local/lib/python3.6/dist-packages (from graphframes) (1.18.3)\n",
            "Collecting nose\n",
            "\u001b[?25l  Downloading https://files.pythonhosted.org/packages/15/d8/dd071918c040f50fa1cf80da16423af51ff8ce4a0f2399b7bf8de45ac3d9/nose-1.3.7-py3-none-any.whl (154kB)\n",
            "\u001b[K     |████████████████████████████████| 163kB 5.1MB/s \n",
            "\u001b[?25hInstalling collected packages: nose, graphframes\n",
            "Successfully installed graphframes-0.6 nose-1.3.7\n"
          ],
          "name": "stdout"
        }
      ]
    },
    {
      "cell_type": "code",
      "metadata": {
        "id": "Nh3V1xwtse28",
        "outputId": "05ce21fb-77ed-4cb3-a21a-86b6756251a6",
        "colab": {
          "base_uri": "https://localhost:8080/",
          "height": 90
        }
      },
      "source": [
        "#obratite pažnju da total nije 0, to znači da se nije ništa skinulo\n",
        "!curl -L -o \"/usr/local/lib/python3.6/dist-packages/pyspark/jars/graphframes-0.8.0-spark2.4-s_2.11.jar\" http://dl.bintray.com/spark-packages/maven/graphframes/graphframes/0.8.0-spark2.4-s_2.11/graphframes-0.8.0-spark2.4-s_2.11.jar"
      ],
      "execution_count": null,
      "outputs": [
        {
          "output_type": "stream",
          "text": [
            "  % Total    % Received % Xferd  Average Speed   Time    Time     Time  Current\n",
            "                                 Dload  Upload   Total   Spent    Left  Speed\n",
            "\r  0     0    0     0    0     0      0      0 --:--:-- --:--:-- --:--:--     0\r  0     0    0     0    0     0      0      0 --:--:-- --:--:-- --:--:--     0\n",
            "\r100  371k  100  371k    0     0  1380k      0 --:--:-- --:--:-- --:--:-- 1380k\n"
          ],
          "name": "stdout"
        }
      ]
    },
    {
      "cell_type": "markdown",
      "metadata": {
        "id": "LyGom8OJarSN"
      },
      "source": [
        "###Zadatak\n",
        "Za ovaj zadataka potrebno je da preuzmete fajlove sa adrese https://www.kaggle.com/usdot/flight-delays. Koristeći GraphFrame kreirati graf gde su čvorovi aerodromi (podaci o aerodromu se nalaze u fajlu airports.csv) a grane su letovi koji postoje između dva aerodroma (podaci su u fajlu flights.csv)\n"
      ]
    },
    {
      "cell_type": "code",
      "metadata": {
        "id": "29Rz30hAchfp"
      },
      "source": [
        "from pyspark.sql import SparkSession\n",
        "\n",
        "spark = SparkSession.builder.master(\"local[*]\").getOrCreate()"
      ],
      "execution_count": null,
      "outputs": []
    },
    {
      "cell_type": "code",
      "metadata": {
        "id": "8S9OiEBeLsCU"
      },
      "source": [
        "flights = spark.read.option(\"header\",\"true\").csv(\"/content/drive/My Drive/flights.csv\")\n",
        "airports = spark.read.option(\"header\",\"true\").csv(\"/content/drive/My Drive/airports.csv\")"
      ],
      "execution_count": null,
      "outputs": []
    },
    {
      "cell_type": "code",
      "metadata": {
        "id": "wkJx6I1MMKoZ"
      },
      "source": [
        "airports = airports.withColumnRenamed(\"IATA_CODE\",\"id\")\n",
        "flights = flights.withColumnRenamed(\"ORIGIN_AIRPORT\",\"src\").withColumnRenamed(\"DESTINATION_AIRPORT\",\"dst\")"
      ],
      "execution_count": null,
      "outputs": []
    },
    {
      "cell_type": "code",
      "metadata": {
        "id": "Jy8qVY_sNGG-"
      },
      "source": [
        "from graphframes  import GraphFrame\n",
        "g = GraphFrame(airports, flights)"
      ],
      "execution_count": null,
      "outputs": []
    },
    {
      "cell_type": "markdown",
      "metadata": {
        "id": "SR--iMWjch9d"
      },
      "source": [
        "#### 1. Koliko ima aerodroma?"
      ]
    },
    {
      "cell_type": "code",
      "metadata": {
        "id": "x7gxTlEdcpyX",
        "outputId": "08668701-25d2-48ad-e319-619bff307f0d",
        "colab": {
          "base_uri": "https://localhost:8080/",
          "height": 35
        }
      },
      "source": [
        "g.vertices.count()"
      ],
      "execution_count": null,
      "outputs": [
        {
          "output_type": "execute_result",
          "data": {
            "text/plain": [
              "322"
            ]
          },
          "metadata": {
            "tags": []
          },
          "execution_count": 11
        }
      ]
    },
    {
      "cell_type": "markdown",
      "metadata": {
        "id": "kwTv_nmpcooY"
      },
      "source": [
        "####2. Koliko ima ukupno letova između svih aerodroma?"
      ]
    },
    {
      "cell_type": "code",
      "metadata": {
        "id": "f-K-zG1McvMh",
        "outputId": "2739e8df-4d0f-4bb1-e2f3-964a39cf349d",
        "colab": {
          "base_uri": "https://localhost:8080/",
          "height": 35
        }
      },
      "source": [
        "g.edges.count()"
      ],
      "execution_count": null,
      "outputs": [
        {
          "output_type": "execute_result",
          "data": {
            "text/plain": [
              "5819079"
            ]
          },
          "metadata": {
            "tags": []
          },
          "execution_count": 12
        }
      ]
    },
    {
      "cell_type": "markdown",
      "metadata": {
        "id": "9ZecliBzcyMl"
      },
      "source": [
        "####3. Koji aerodrom ima najviše odlazećih letova? Prikazati grafički 10 najpopularnijih aerodroma."
      ]
    },
    {
      "cell_type": "code",
      "metadata": {
        "id": "Jr-wVGASc-LO",
        "outputId": "ab2ae330-cf41-43f1-9d84-1466818a63b0",
        "colab": {
          "base_uri": "https://localhost:8080/",
          "height": 311
        }
      },
      "source": [
        "g.outDegrees.orderBy(\"outDegree\",ascending=False).show(10)"
      ],
      "execution_count": null,
      "outputs": [
        {
          "output_type": "stream",
          "text": [
            "+---+---------+\n",
            "| id|outDegree|\n",
            "+---+---------+\n",
            "|ATL|   346836|\n",
            "|ORD|   285884|\n",
            "|DFW|   239551|\n",
            "|DEN|   196055|\n",
            "|LAX|   194673|\n",
            "|SFO|   148008|\n",
            "|PHX|   146815|\n",
            "|IAH|   146622|\n",
            "|LAS|   133181|\n",
            "|MSP|   112117|\n",
            "+---+---------+\n",
            "only showing top 10 rows\n",
            "\n"
          ],
          "name": "stdout"
        }
      ]
    },
    {
      "cell_type": "markdown",
      "metadata": {
        "id": "Lrg__mJqc-jf"
      },
      "source": [
        "####4. Ako posmtramo aerodrom Chicago O’Hare International Airport (ORD) kao početnu destinaciju, koliko kasne u proseku letovi koji poleću sa njega ka drugim aerodromima. Ispisati 10 aerodroma koje imaju najveće prosečno kašnjenje i koliki je broj letova iz Chicago O’Hare ka tim aerodromima."
      ]
    },
    {
      "cell_type": "code",
      "metadata": {
        "id": "wJsOiJ4baqiM"
      },
      "source": [
        "g2 = g.filterEdges(\"src='ORD'\").dropIsolatedVertices()"
      ],
      "execution_count": null,
      "outputs": []
    },
    {
      "cell_type": "code",
      "metadata": {
        "id": "MGdfigr1SK-9",
        "outputId": "648d6f41-ff3c-410e-89c1-3bd12d3b03c2",
        "colab": {
          "base_uri": "https://localhost:8080/",
          "height": 127
        }
      },
      "source": [
        "import pyspark.sql.functions as F\n",
        "\n",
        "g2.edges.agg(F.avg(F.col(\"ARRIVAL_DELAY\"))).show()"
      ],
      "execution_count": null,
      "outputs": [
        {
          "output_type": "stream",
          "text": [
            "+------------------+\n",
            "|avg(ARRIVAL_DELAY)|\n",
            "+------------------+\n",
            "| 8.600790442372919|\n",
            "+------------------+\n",
            "\n"
          ],
          "name": "stdout"
        }
      ]
    },
    {
      "cell_type": "code",
      "metadata": {
        "id": "2fH-S74eTgRn",
        "outputId": "42cc4b09-0b4e-4a14-d1b4-caeb9c9ba96c",
        "colab": {
          "base_uri": "https://localhost:8080/",
          "height": 311
        }
      },
      "source": [
        "from pyspark.sql.types import *\n",
        "\n",
        "g2.edges.withColumn(\"ARRIVAL_DELAY\",g2.edges[\"ARRIVAL_DELAY\"].cast(IntegerType())).groupBy(\"dst\").avg(\"ARRIVAL_DELAY\").orderBy(\"avg(ARRIVAL_DELAY)\",ascending=False).show(10)"
      ],
      "execution_count": null,
      "outputs": [
        {
          "output_type": "stream",
          "text": [
            "+---+------------------+\n",
            "|dst|avg(ARRIVAL_DELAY)|\n",
            "+---+------------------+\n",
            "|FAI|              37.0|\n",
            "|COD|              28.5|\n",
            "|HNL|26.539634146341463|\n",
            "|STC|23.025974025974026|\n",
            "|EGE|22.767676767676768|\n",
            "|ASE| 22.25659050966608|\n",
            "|ACY|22.224489795918366|\n",
            "|JAC|21.106770833333332|\n",
            "|MYR|19.305439330543933|\n",
            "|COS| 18.60749724366042|\n",
            "+---+------------------+\n",
            "only showing top 10 rows\n",
            "\n"
          ],
          "name": "stdout"
        }
      ]
    },
    {
      "cell_type": "markdown",
      "metadata": {
        "id": "_sju7c1Ue-Xb"
      },
      "source": [
        "####5. Pronadjite sve letove iz Chicago O’Hare International Airport ka prvom aerodromu po prosečnom kašnjenju (zadatak 4) i vizualizujte te letove tako da na x osi budu datumi leta a na y osi kašnjenje pri polasku"
      ]
    },
    {
      "cell_type": "code",
      "metadata": {
        "id": "ym0Wvw5lf-cG",
        "outputId": "19188874-d81b-4e64-ef27-c444752950fa",
        "colab": {
          "base_uri": "https://localhost:8080/",
          "height": 643
        }
      },
      "source": [
        "import datetime\n",
        "import pandas as pd\n",
        "import matplotlib.pyplot as plt\n",
        "import seaborn as sn\n",
        "import numpy as np\n",
        "\n",
        "d = g2.filterEdges(\"src='ORD' AND dst='FAI'\").dropIsolatedVertices().edges\n",
        "d2 = d.withColumn('MONTH', F.when(F.length(F.col('MONTH')) == 1, F.concat(F.lit('0'), F.col('MONTH'))).otherwise(F.col('MONTH'))) \\\n",
        "        .withColumn('DAY', F.when(F.length(F.col('DAY')) == 1, F.concat(F.lit('0'), F.col('DAY'))).otherwise(F.col('DAY'))) \\\n",
        "        .withColumn('date', F.to_timestamp(F.concat(F.col(\"YEAR\"),F.col(\"MONTH\"),F.col(\"DAY\"),F.col(\"DEPARTURE_TIME\")), format='yyyyMMddHHmm'))\n",
        "p = d2.withColumn(\"DEPARTURE_DELAY\",d2[\"DEPARTURE_DELAY\"].cast(IntegerType())).toPandas()\n",
        "plt.figure(figsize=(10, 10))\n",
        "grp = sn.scatterplot(x=\"date\",y=\"DEPARTURE_DELAY\",data=p).set(xlim=(datetime.datetime(2015,5,1),datetime.datetime(2015,9,1)))\n",
        "plt.show(grp)"
      ],
      "execution_count": null,
      "outputs": [
        {
          "output_type": "stream",
          "text": [
            "/usr/local/lib/python3.6/dist-packages/statsmodels/tools/_testing.py:19: FutureWarning: pandas.util.testing is deprecated. Use the functions in the public API at pandas.testing instead.\n",
            "  import pandas.util.testing as tm\n"
          ],
          "name": "stderr"
        },
        {
          "output_type": "display_data",
          "data": {
            "image/png": "[encoded data removed]",
            "text/plain": [
              "<Figure size 720x720 with 1 Axes>"
            ]
          },
          "metadata": {
            "tags": [],
            "needs_background": "light"
          }
        }
      ]
    },
    {
      "cell_type": "markdown",
      "metadata": {
        "id": "0xCiZkqcf_Ln"
      },
      "source": [
        "####6.Pronaći letove za 15.05.2015 (ili neki drugi datum) kod kojih je tranzitni aerodrom bio San Francisco International Airport (SFO). Tranzitni let znači da je ista avio kompanija sa istim brojem leta letela iz grada A preko San Franciska za grad B i da je vreme poletanja iz San Franciska za grad B veće od vremena stizanja leta iz grada A u San Francisko."
      ]
    },
    {
      "cell_type": "code",
      "metadata": {
        "id": "tWVmexIliQrE",
        "outputId": "7865167d-1fc2-4066-b8b0-3098545e93cc",
        "colab": {
          "base_uri": "https://localhost:8080/",
          "height": 515
        }
      },
      "source": [
        "g3 = g.edges.withColumn(\"ARRIVAL_TIME\",g2.edges[\"ARRIVAL_TIME\"].cast(IntegerType())).withColumn(\"DEPARTURE_TIME\",g2.edges[\"DEPARTURE_TIME\"].cast(IntegerType()))\n",
        "sf = g.find(\"(a)-[e]->(s); (s)-[e2]->(b)\").filter(\"s.id='SFO' AND a.id!=b.id AND e.YEAR='2015' AND e.MONTH='5' AND e.DAY='15' AND e2.YEAR='2015' AND e2.MONTH='5' AND e2.DAY='15' AND e.AIRLINE=e2.AIRLINE AND e.FLIGHT_NUMBER=e2.FLIGHT_NUMBER AND e.ARRIVAL_TIME < e2.DEPARTURE_TIME\")\n",
        "sf.select(\"e\",\"e2\").show(20, truncate=False)"
      ],
      "execution_count": null,
      "outputs": [
        {
          "output_type": "stream",
          "text": [
            "+---------------------------------------------------------------------------------------------------------------------------------------------+--------------------------------------------------------------------------------------------------------------------------------------------+\n",
            "|e                                                                                                                                            |e2                                                                                                                                          |\n",
            "+---------------------------------------------------------------------------------------------------------------------------------------------+--------------------------------------------------------------------------------------------------------------------------------------------+\n",
            "|[2015, 5, 15, 5, OO, 6233, N938SW, ACV, SFO, 1353, 1421, 28, 29, 1450, 71, 92, 55, 250, 1545, 8, 1504, 1553, 49, 0, 0,, 30, 0, 0, 19, 0]     |[2015, 5, 15, 5, OO, 6233, N916SW, SFO, PSP, 1842, 2235, 233, 35, 2310, 90, 99, 59, 421, 0009, 5, 2012, 0014, 242, 0, 0,, 9, 0, 0, 233, 0]  |\n",
            "|[2015, 5, 15, 5, UA, 1131, N54241, LAX, SFO, 1923, 1936, 13, 20, 1956, 82, 90, 66, 337, 2102, 4, 2045, 2106, 21, 0, 0,, 21, 0, 0, 0, 0]      |[2015, 5, 15, 5, UA, 1131, N73256, SFO, EWR, 2146, 2158, 12, 25, 2223, 330, 325, 293, 2565, 0616, 7, 0616, 0623, 7, 0, 0,,,,,,]             |\n",
            "|[2015, 5, 15, 5, UA, 267, N476UA, DEN, SFO, 0738, 0754, 16, 14, 0808, 170, 153, 134, 967, 0922, 5, 0928, 0927, -1, 0, 0,,,,,,]               |[2015, 5, 15, 5, UA, 267, N446UA, SFO, PHL, 1043, 1041, -2, 19, 1100, 330, 322, 289, 2521, 1849, 14, 1913, 1903, -10, 0, 0,,,,,,]           |\n",
            "|[2015, 5, 15, 5, UA, 1581, N77518, SAN, SFO, 1143, 1212, 29, 20, 1232, 102, 97, 72, 447, 1344, 5, 1325, 1349, 24, 0, 0,, 24, 0, 0, 0, 0]     |[2015, 5, 15, 5, UA, 1581, N56859, SFO, OGG, 1700, 1708, 8, 32, 1740, 322, 328, 289, 2338, 1929, 7, 1922, 1936, 14, 0, 0,,,,,,]             |\n",
            "|[2015, 5, 15, 5, UA, 1614, N27901, IAH, SFO, 0709, 0724, 15, 20, 0744, 246, 223, 197, 1635, 0901, 6, 0915, 0907, -8, 0, 0,,,,,,]             |[2015, 5, 15, 5, UA, 1614, N68823, SFO, SAN, 1255, 1252, -3, 14, 1306, 99, 82, 65, 447, 1411, 3, 1434, 1414, -20, 0, 0,,,,,,]               |\n",
            "|[2015, 5, 15, 5, UA, 1686, N77430, DEN, SFO, 1115, 1309, 114, 15, 1324, 168, 164, 145, 967, 1449, 4, 1303, 1453, 110, 0, 0,, 110, 0, 0, 0, 0]|[2015, 5, 15, 5, UA, 1686, N77518, SFO, DCA, 1415, 1454, 39, 21, 1515, 320, 308, 282, 2442, 2257, 5, 2235, 2302, 27, 0, 0,, 0, 0, 14, 13, 0]|\n",
            "|[2015, 5, 15, 5, OO, 6409, N118SY, SLC, SFO, 1137, 1133, -4, 36, 1209, 136, 143, 103, 599, 1252, 4, 1253, 1256, 3, 0, 0,,,,,,]               |[2015, 5, 15, 5, OO, 6409, N121SY, SFO, PDX, 1434, 1438, 4, 27, 1505, 111, 114, 84, 550, 1629, 3, 1625, 1632, 7, 0, 0,,,,,,]                |\n",
            "|[2015, 5, 15, 5, OO, 5613, N136SY, LAX, SFO, 0602, 0601, -1, 18, 0619, 89, 82, 57, 337, 0716, 7, 0731, 0723, -8, 0, 0,,,,,,]                 |[2015, 5, 15, 5, OO, 5613, N934SW, SFO, BFL, 0836, 0831, -5, 17, 0848, 75, 72, 50, 238, 0938, 5, 0951, 0943, -8, 0, 0,,,,,,]                |\n",
            "|[2015, 5, 15, 5, UA, 1135, N36476, IAD, SFO, 0607, 0601, -6, 11, 0612, 361, 331, 315, 2419, 0827, 5, 0908, 0832, -36, 0, 0,,,,,,]            |[2015, 5, 15, 5, UA, 1135, N66803, SFO, RDU, 0941, 0940, -1, 15, 0955, 311, 308, 290, 2400, 1745, 3, 1752, 1748, -4, 0, 0,,,,,,]            |\n",
            "|[2015, 5, 15, 5, UA, 753, N494UA, BWI, SFO, 0620, 0616, -4, 10, 0626, 360, 335, 319, 2457, 0845, 6, 0920, 0851, -29, 0, 0,,,,,,]             |[2015, 5, 15, 5, UA, 753, N476UA, SFO, LAS, 1018, 1018, 0, 23, 1041, 99, 98, 69, 414, 1150, 6, 1157, 1156, -1, 0, 0,,,,,,]                  |\n",
            "|[2015, 5, 15, 5, UA, 1074, N66825, CLE, SFO, 0617, 0612, -5, 9, 0621, 325, 305, 286, 2161, 0807, 10, 0842, 0817, -25, 0, 0,,,,,,]            |[2015, 5, 15, 5, UA, 1074, N36476, SFO, ORD, 1005, 1004, -1, 15, 1019, 262, 257, 227, 1846, 1606, 15, 1627, 1621, -6, 0, 0,,,,,,]           |\n",
            "|[2015, 5, 15, 5, UA, 1138, N39461, DEN, SFO, 1421, 1508, 47, 11, 1519, 161, 159, 125, 967, 1624, 23, 1602, 1647, 45, 0, 0,, 11, 0, 0, 34, 0] |[2015, 5, 15, 5, UA, 1138, N69847, SFO, MSY, 1747, 1829, 42, 15, 1844, 252, 233, 213, 1911, 0017, 5, 2359, 0022, 23, 0, 0,, 7, 0, 0, 16, 0] |\n",
            "|[2015, 5, 15, 5, UA, 595, N428UA, LAS, SFO, 1445, 1441, -4, 18, 1459, 97, 95, 65, 414, 1604, 12, 1622, 1616, -6, 0, 0,,,,,,]                 |[2015, 5, 15, 5, UA, 595, N463UA, SFO, PDX, 1920, 2001, 41, 15, 2016, 110, 98, 81, 550, 2137, 2, 2110, 2139, 29, 0, 0,, 0, 0, 6, 23, 0]     |\n",
            "|[2015, 5, 15, 5, UA, 560, N480UA, IAD, SFO, 1422, 1539, 77, 12, 1551, 360, 322, 304, 2419, 1755, 6, 1722, 1801, 39, 0, 0,, 0, 0, 17, 22, 0]  |[2015, 5, 15, 5, UA, 560, N413UA, SFO, SEA, 1800, 1802, 2, 14, 1816, 127, 118, 97, 679, 1953, 7, 2007, 2000, -7, 0, 0,,,,,,]                |\n",
            "|[2015, 5, 15, 5, UA, 1754, N12221, FLL, SFO, 0755, 0803, 8, 15, 0818, 383, 351, 330, 2584, 1048, 6, 1118, 1054, -24, 0, 0,,,,,,]             |[2015, 5, 15, 5, UA, 1754, N39423, SFO, EWR, 1304, 1327, 23, 18, 1345, 341, 340, 302, 2565, 2147, 20, 2145, 2207, 22, 0, 0,, 0, 0, 22, 0, 0]|\n",
            "|[2015, 5, 15, 5, OO, 5632, N793SK, SBA, SFO, 0600, 0558, -2, 9, 0607, 75, 56, 43, 262, 0650, 4, 0715, 0654, -21, 0, 0,,,,,,]                 |[2015, 5, 15, 5, OO, 5632, N979SW, SFO, EUG, 0841, 0832, -9, 22, 0854, 99, 99, 74, 451, 1008, 3, 1020, 1011, -9, 0, 0,,,,,,]                |\n",
            "|[2015, 5, 15, 5, AS, 304, N797AS, SEA, SFO, 1840, 1847, 7, 22, 1909, 129, 139, 109, 679, 2058, 8, 2049, 2106, 17, 0, 0,, 12, 0, 0, 5, 0]     |[2015, 5, 15, 5, AS, 304, N797AS, SFO, PSP, 2135, 2142, 7, 18, 2200, 84, 83, 60, 421, 2300, 5, 2259, 2305, 6, 0, 0,,,,,,]                   |\n",
            "|[2015, 5, 15, 5, UA, 1728, N41140, OGG, SFO, 1245, 1255, 10, 11, 1306, 299, 295, 279, 2338, 2045, 5, 2044, 2050, 6, 0, 0,,,,,,]              |[2015, 5, 15, 5, UA, 1728, N18223, SFO, ATL, 2237, 2236, -1, 38, 2314, 283, 297, 247, 2139, 0621, 12, 0620, 0633, 13, 0, 0,,,,,,]           |\n",
            "|[2015, 5, 15, 5, WN, 320, N418WN, MDW, SFO, 0835, 0835, 0, 16, 0851, 280, 269, 247, 1855, 1058, 6, 1115, 1104, -11, 0, 0,,,,,,]              |[2015, 5, 15, 5, WN, 320, N418WN, SFO, LAS, 1150, 1148, -2, 7, 1155, 100, 80, 68, 414, 1303, 5, 1330, 1308, -22, 0, 0,,,,,,]                |\n",
            "|[2015, 5, 15, 5, UA, 1723, N32404, PDX, SFO, 1226, 1230, 4, 45, 1315, 107, 134, 84, 550, 1439, 5, 1413, 1444, 31, 0, 0,, 31, 0, 0, 0, 0]     |[2015, 5, 15, 5, UA, 1723, N38467, SFO, KOA, 1732, 1746, 14, 15, 1801, 329, 317, 298, 2367, 1959, 4, 2001, 2003, 2, 0, 0,,,,,,]             |\n",
            "+---------------------------------------------------------------------------------------------------------------------------------------------+--------------------------------------------------------------------------------------------------------------------------------------------+\n",
            "only showing top 20 rows\n",
            "\n"
          ],
          "name": "stdout"
        }
      ]
    },
    {
      "cell_type": "markdown",
      "metadata": {
        "id": "jCmk_r0cmfDB"
      },
      "source": [
        "####7. Koliko minimalno letova treba da promenimo ako želimo da putujemo od San Francisco International Airport do Miami International Airport?"
      ]
    },
    {
      "cell_type": "code",
      "metadata": {
        "id": "6WdR666dxSls",
        "outputId": "9199b45a-1a12-45c4-ba43-d79c64af1fb1",
        "colab": {
          "base_uri": "https://localhost:8080/",
          "height": 35
        }
      },
      "source": [
        "b = g.bfs(\"id='SFO'\",\"id='MIA'\").columns\n",
        "int(b[len(b)-2].replace('e',''))"
      ],
      "execution_count": null,
      "outputs": [
        {
          "output_type": "execute_result",
          "data": {
            "text/plain": [
              "0"
            ]
          },
          "metadata": {
            "tags": []
          },
          "execution_count": 19
        }
      ]
    },
    {
      "cell_type": "markdown",
      "metadata": {
        "id": "WcxU6v6NiRE8"
      },
      "source": [
        "####8. Ako izaberemo jedan konkretan aerodrom i jednu konkretnu aviokompaniju, koliko aerodroma možemo posetiti tako da uvek idemo istom aviokompanijom i da se možemo vratiti nazad u izabrani grad. Za svaku avio kompaniju ispisati/vizualizovati koliki je broj tih aerodroma. Za rešenje zadatka koristiti Strongly Connected Components algoritam. Koja avio komapnija ima najveću zajednicu?"
      ]
    },
    {
      "cell_type": "code",
      "metadata": {
        "id": "tnTXe8f2xTb7",
        "colab": {
          "base_uri": "https://localhost:8080/",
          "height": 366
        },
        "outputId": "64d7748b-ffdf-499f-8c64-55d45b1322d0"
      },
      "source": [
        "airlines = g.edges.groupBy(\"AIRLINE\").count().select(\"AIRLINE\").collect()\n",
        "cols = [StructField('Airline',StringType(), True),StructField('Number_of_Components', IntegerType(), True),StructField('Largest_Component', IntegerType(), True)]\n",
        "schema = StructType(cols)\n",
        "stats = spark.createDataFrame([], schema)\n",
        "for ar in airlines:\n",
        "  al = ar[\"AIRLINE\"]\n",
        "  sc = g.filterEdges(\"AIRLINE='\"+al+\"'\").stronglyConnectedComponents(maxIter=10)\n",
        "  df = spark.createDataFrame([(al, sc.groupBy(\"component\").count().count(), \\\n",
        "                              sc.groupBy(\"component\").count().filter(\"count>1\").orderBy(\"count\", ascending=False).collect()[0][\"count\"])], schema)\n",
        "  stats = stats.union(df)\n",
        "stats.show()"
      ],
      "execution_count": null,
      "outputs": [
        {
          "output_type": "stream",
          "text": [
            "+-------+--------------------+-----------------+\n",
            "|Airline|Number_of_Components|Largest_Component|\n",
            "+-------+--------------------+-----------------+\n",
            "|     UA|                 229|               94|\n",
            "|     NK|                 289|               34|\n",
            "|     AA|                 225|               98|\n",
            "|     EV|                 142|              181|\n",
            "|     B6|                 259|               64|\n",
            "|     DL|                 167|              156|\n",
            "|     OO|                 112|              211|\n",
            "|     F9|                 260|               63|\n",
            "|     US|                 244|               79|\n",
            "|     MQ|                 190|              133|\n",
            "|     HA|                 306|               17|\n",
            "|     AS|                 256|               67|\n",
            "|     VX|                 303|               20|\n",
            "|     WN|                 237|               86|\n",
            "+-------+--------------------+-----------------+\n",
            "\n"
          ],
          "name": "stdout"
        }
      ]
    },
    {
      "cell_type": "code",
      "metadata": {
        "id": "PSaJDdAvqOUS",
        "colab": {
          "base_uri": "https://localhost:8080/",
          "height": 444
        },
        "outputId": "9f5b6d4a-25f0-4a6c-a916-897f68140cc2"
      },
      "source": [
        "pstats = stats.toPandas()\n",
        "print(stats.orderBy(\"Largest_Component\", ascending=False).show(1))\n",
        "sn.barplot(x=\"Airline\",y=\"Largest_Component\",data=pstats)"
      ],
      "execution_count": null,
      "outputs": [
        {
          "output_type": "stream",
          "text": [
            "+-------+--------------------+-----------------+\n",
            "|Airline|Number_of_Components|Largest_Component|\n",
            "+-------+--------------------+-----------------+\n",
            "|     OO|                 112|              211|\n",
            "+-------+--------------------+-----------------+\n",
            "only showing top 1 row\n",
            "\n",
            "None\n"
          ],
          "name": "stdout"
        },
        {
          "output_type": "execute_result",
          "data": {
            "text/plain": [
              "<matplotlib.axes._subplots.AxesSubplot at 0x7ff017868f28>"
            ]
          },
          "metadata": {
            "tags": []
          },
          "execution_count": 23
        },
        {
          "output_type": "display_data",
          "data": {
            "image/png": "[encoded data removed]",
            "text/plain": [
              "<Figure size 432x288 with 1 Axes>"
            ]
          },
          "metadata": {
            "tags": [],
            "needs_background": "light"
          }
        }
      ]
    }
  ]
}