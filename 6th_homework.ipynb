{
  "nbformat": 4,
  "nbformat_minor": 0,
  "metadata": {
    "colab": {
      "name": "Ognjen Kulic: 6.čas - primeri upotrebe algoritma klasifikacije",
      "provenance": [],
      "toc_visible": true,
      "include_colab_link": true
    },
    "kernelspec": {
      "name": "python3",
      "display_name": "Python 3"
    }
  },
  "cells": [
    {
      "cell_type": "markdown",
      "metadata": {
        "id": "view-in-github",
        "colab_type": "text"
      },
      "source": [
        "<a href=\"https://colab.research.google.com/github/Coolicc/Big-Data-Analysis-PySpark/blob/main/6th_homework.ipynb\" target=\"_parent\"><img src=\"https://colab.research.google.com/assets/colab-badge.svg\" alt=\"Open In Colab\"/></a>"
      ]
    },
    {
      "cell_type": "markdown",
      "metadata": {
        "id": "jzPvCGFSrYjH"
      },
      "source": [
        "###Podešavanje Sparka za rad u Google Colabu\n",
        "#####Izvršite sve komande u datom redosledu"
      ]
    },
    {
      "cell_type": "code",
      "metadata": {
        "id": "zzfOtbNqT3vK",
        "outputId": "69f4cb3a-efbe-401c-d863-92262f612f74",
        "colab": {
          "base_uri": "https://localhost:8080/",
          "height": 129
        }
      },
      "source": [
        "from google.colab import drive\n",
        "drive.mount('/content/drive')"
      ],
      "execution_count": null,
      "outputs": [
        {
          "output_type": "stream",
          "text": [
            "Go to this URL in a browser: https://accounts.google.com/o/oauth2/auth?client_id=947318989803-6bn6qk8qdgf4n4g3pfee6491hc0brc4i.apps.googleusercontent.com&redirect_uri=urn%3aietf%3awg%3aoauth%3a2.0%3aoob&response_type=code&scope=email%20https%3a%2f%2fwww.googleapis.com%2fauth%2fdocs.test%20https%3a%2f%2fwww.googleapis.com%2fauth%2fdrive%20https%3a%2f%2fwww.googleapis.com%2fauth%2fdrive.photos.readonly%20https%3a%2f%2fwww.googleapis.com%2fauth%2fpeopleapi.readonly\n",
            "\n",
            "Enter your authorization code:\n",
            "··········\n",
            "Mounted at /content/drive\n"
          ],
          "name": "stdout"
        }
      ]
    },
    {
      "cell_type": "code",
      "metadata": {
        "id": "fGqy-W2UA7Hp",
        "outputId": "998c9377-4a95-49f1-b837-64d1454d591b",
        "colab": {
          "base_uri": "https://localhost:8080/",
          "height": 72
        }
      },
      "source": [
        "!java -version"
      ],
      "execution_count": null,
      "outputs": [
        {
          "output_type": "stream",
          "text": [
            "openjdk version \"11.0.6\" 2020-01-14\n",
            "OpenJDK Runtime Environment (build 11.0.6+10-post-Ubuntu-1ubuntu118.04.1)\n",
            "OpenJDK 64-Bit Server VM (build 11.0.6+10-post-Ubuntu-1ubuntu118.04.1, mixed mode, sharing)\n"
          ],
          "name": "stdout"
        }
      ]
    },
    {
      "cell_type": "code",
      "metadata": {
        "id": "GzdA3TFF_vvd",
        "outputId": "1b8277a1-0892-4ee6-be7f-c6219b9d00a8",
        "colab": {
          "base_uri": "https://localhost:8080/",
          "height": 182
        }
      },
      "source": [
        "!update-alternatives --config java"
      ],
      "execution_count": null,
      "outputs": [
        {
          "output_type": "stream",
          "text": [
            "There are 2 choices for the alternative java (providing /usr/bin/java).\n",
            "\n",
            "  Selection    Path                                            Priority   Status\n",
            "------------------------------------------------------------\n",
            "* 0            /usr/lib/jvm/java-11-openjdk-amd64/bin/java      1111      auto mode\n",
            "  1            /usr/lib/jvm/java-11-openjdk-amd64/bin/java      1111      manual mode\n",
            "  2            /usr/lib/jvm/java-8-openjdk-amd64/jre/bin/java   1081      manual mode\n",
            "\n",
            "Press <enter> to keep the current choice[*], or type selection number: \n"
          ],
          "name": "stdout"
        }
      ]
    },
    {
      "cell_type": "code",
      "metadata": {
        "id": "2_zujIW1nrTM"
      },
      "source": [
        "import os\n",
        "os.environ[\"JAVA_HOME\"] = \"/usr/lib/jvm/java-8-openjdk-amd64\""
      ],
      "execution_count": null,
      "outputs": []
    },
    {
      "cell_type": "code",
      "metadata": {
        "id": "6k-NHUISr6lr",
        "outputId": "dad42844-05d1-421c-e4f9-ea9324c817b2",
        "colab": {
          "base_uri": "https://localhost:8080/",
          "height": 256
        }
      },
      "source": [
        "!pip install pyspark"
      ],
      "execution_count": null,
      "outputs": [
        {
          "output_type": "stream",
          "text": [
            "Collecting pyspark\n",
            "\u001b[?25l  Downloading https://files.pythonhosted.org/packages/9a/5a/271c416c1c2185b6cb0151b29a91fff6fcaed80173c8584ff6d20e46b465/pyspark-2.4.5.tar.gz (217.8MB)\n",
            "\u001b[K     |████████████████████████████████| 217.8MB 61kB/s \n",
            "\u001b[?25hCollecting py4j==0.10.7\n",
            "\u001b[?25l  Downloading https://files.pythonhosted.org/packages/e3/53/c737818eb9a7dc32a7cd4f1396e787bd94200c3997c72c1dbe028587bd76/py4j-0.10.7-py2.py3-none-any.whl (197kB)\n",
            "\u001b[K     |████████████████████████████████| 204kB 47.7MB/s \n",
            "\u001b[?25hBuilding wheels for collected packages: pyspark\n",
            "  Building wheel for pyspark (setup.py) ... \u001b[?25l\u001b[?25hdone\n",
            "  Created wheel for pyspark: filename=pyspark-2.4.5-py2.py3-none-any.whl size=218257927 sha256=c60194b174dd873dcb7109725f7bb3532b00851127d5a188328cf7ecc7d5947b\n",
            "  Stored in directory: /root/.cache/pip/wheels/bf/db/04/61d66a5939364e756eb1c1be4ec5bdce6e04047fc7929a3c3c\n",
            "Successfully built pyspark\n",
            "Installing collected packages: py4j, pyspark\n",
            "Successfully installed py4j-0.10.7 pyspark-2.4.5\n"
          ],
          "name": "stdout"
        }
      ]
    },
    {
      "cell_type": "markdown",
      "metadata": {
        "id": "Ek53g9IwZgrN"
      },
      "source": [
        "###**Zadatak**\n",
        "Sa adrese https://www.kaggle.com/c/titanic/data preuzeti fajl **train.csv**. Fajl opisuje putnike koji su bili na brodu Titanik. Naš zadatak je da odredimo da li će neka osoba preživeti ili ne brodolom koristeći algoritam mašinskog učenja."
      ]
    },
    {
      "cell_type": "code",
      "metadata": {
        "id": "9_Uz1NL4gHFx"
      },
      "source": [
        "from pyspark.sql import SparkSession\n",
        "spark = SparkSession.builder.master(\"local[*]\").getOrCreate()"
      ],
      "execution_count": null,
      "outputs": []
    },
    {
      "cell_type": "code",
      "metadata": {
        "id": "BHKlkCtmpRpe",
        "outputId": "7e2be2dc-79ed-4300-b498-41460c250d9a",
        "colab": {
          "base_uri": "https://localhost:8080/",
          "height": 224
        }
      },
      "source": [
        "data = spark.read.csv('/content/drive/My Drive/nastava/Analiza velikih podataka/train.csv',header=True)\n",
        "data.show(5)"
      ],
      "execution_count": null,
      "outputs": [
        {
          "output_type": "stream",
          "text": [
            "+-----------+--------+------+--------------------+------+---+-----+-----+----------------+-------+-----+--------+\n",
            "|PassengerId|Survived|Pclass|                Name|   Sex|Age|SibSp|Parch|          Ticket|   Fare|Cabin|Embarked|\n",
            "+-----------+--------+------+--------------------+------+---+-----+-----+----------------+-------+-----+--------+\n",
            "|          1|       0|     3|Braund, Mr. Owen ...|  male| 22|    1|    0|       A/5 21171|   7.25| null|       S|\n",
            "|          2|       1|     1|Cumings, Mrs. Joh...|female| 38|    1|    0|        PC 17599|71.2833|  C85|       C|\n",
            "|          3|       1|     3|Heikkinen, Miss. ...|female| 26|    0|    0|STON/O2. 3101282|  7.925| null|       S|\n",
            "|          4|       1|     1|Futrelle, Mrs. Ja...|female| 35|    1|    0|          113803|   53.1| C123|       S|\n",
            "|          5|       0|     3|Allen, Mr. Willia...|  male| 35|    0|    0|          373450|   8.05| null|       S|\n",
            "+-----------+--------+------+--------------------+------+---+-----+-----+----------------+-------+-----+--------+\n",
            "only showing top 5 rows\n",
            "\n"
          ],
          "name": "stdout"
        }
      ]
    },
    {
      "cell_type": "code",
      "metadata": {
        "id": "CfhZRnkZqE6T",
        "outputId": "60cf23fd-ef0f-46a6-cfd2-e5acda779ecf",
        "colab": {
          "base_uri": "https://localhost:8080/",
          "height": 34
        }
      },
      "source": [
        "dataForAnalysis = data.select(\"Sex\",\"Age\",\"Pclass\",\"Survived\")\n",
        "dataForAnalysis.count()\n"
      ],
      "execution_count": null,
      "outputs": [
        {
          "output_type": "execute_result",
          "data": {
            "text/plain": [
              "891"
            ]
          },
          "metadata": {
            "tags": []
          },
          "execution_count": 37
        }
      ]
    },
    {
      "cell_type": "code",
      "metadata": {
        "id": "QNkmE3zFq2eN",
        "outputId": "79c71391-09c7-4629-fcfd-1cbba32fa799",
        "colab": {
          "base_uri": "https://localhost:8080/",
          "height": 34
        }
      },
      "source": [
        "#da li imamo null vrednosti, ako da izbacićemo sve vrste koje sadrže bilo gde null\n",
        "dataForAnalysis = dataForAnalysis.dropna()\n",
        "dataForAnalysis.count()"
      ],
      "execution_count": null,
      "outputs": [
        {
          "output_type": "execute_result",
          "data": {
            "text/plain": [
              "714"
            ]
          },
          "metadata": {
            "tags": []
          },
          "execution_count": 38
        }
      ]
    },
    {
      "cell_type": "code",
      "metadata": {
        "id": "95COsQJPsthw",
        "outputId": "38e03180-aa34-4c69-b9ba-e0159cefe2fe",
        "colab": {
          "base_uri": "https://localhost:8080/",
          "height": 119
        }
      },
      "source": [
        "#pretvorićemo kolone u odgovarajuće tipove\n",
        "from pyspark.sql.types import *\n",
        "\n",
        "dataForAnalysis = dataForAnalysis.withColumn(\"Age\",dataForAnalysis[\"Age\"].cast(IntegerType())). \\\n",
        "                withColumn(\"Pclass\",dataForAnalysis[\"Pclass\"].cast(IntegerType())). \\\n",
        "                withColumn(\"Survived\",dataForAnalysis[\"Survived\"].cast(DoubleType()))\n",
        "\n",
        "dataForAnalysis.printSchema()"
      ],
      "execution_count": null,
      "outputs": [
        {
          "output_type": "stream",
          "text": [
            "root\n",
            " |-- Sex: string (nullable = true)\n",
            " |-- Age: integer (nullable = true)\n",
            " |-- Pclass: integer (nullable = true)\n",
            " |-- Survived: double (nullable = true)\n",
            "\n"
          ],
          "name": "stdout"
        }
      ]
    },
    {
      "cell_type": "code",
      "metadata": {
        "id": "FFpd43Jawd1b",
        "outputId": "a5f09415-99f6-4ac5-8a80-1610b31ccb4d",
        "colab": {
          "base_uri": "https://localhost:8080/",
          "height": 51
        }
      },
      "source": [
        "#podelićemo podatke na trening i test skup\n",
        "splits = dataForAnalysis.randomSplit([0.8,0.2])\n",
        "train = splits[0]\n",
        "test = splits[1]\n",
        "print(\"Broj vrsta u treningu \",str(train.count()))\n",
        "print(\"Broj vrsta u testu \",str(test.count()))"
      ],
      "execution_count": null,
      "outputs": [
        {
          "output_type": "stream",
          "text": [
            "Broj vrsta u treningu  569\n",
            "Broj vrsta u testu  145\n"
          ],
          "name": "stdout"
        }
      ]
    },
    {
      "cell_type": "code",
      "metadata": {
        "id": "ONmQhx2QwGsl"
      },
      "source": [
        "#kreiraćemo estimator da pretvorimo kategoricke vrednosti za pol u numeričke\n",
        "from pyspark.ml.feature import StringIndexer\n",
        "\n",
        "indexer = StringIndexer(inputCol=\"Sex\",outputCol=\"SexNum\")"
      ],
      "execution_count": null,
      "outputs": []
    },
    {
      "cell_type": "code",
      "metadata": {
        "id": "oQVqN6NH0LTO"
      },
      "source": [
        "#kreiraćemo estimator da kolonu  SexNum pretvorimo u niz 0 i 1 slično kolonu Pclass\n",
        "from pyspark.ml.feature import OneHotEncoderEstimator\n",
        "onehot = OneHotEncoderEstimator(inputCols=[\"SexNum\",\"Pclass\"],outputCols=[\"SexVec\",\"PclassVec\"]) "
      ],
      "execution_count": null,
      "outputs": []
    },
    {
      "cell_type": "code",
      "metadata": {
        "id": "CW0KlVKr1ah4"
      },
      "source": [
        "#kreiramo transformer da kolone skupimo  u jedan vektor\n",
        "from pyspark.ml.feature import VectorAssembler\n",
        "\n",
        "assembler = VectorAssembler(inputCols=[\"Age\",\"SexVec\",\"PclassVec\"],outputCol=\"features\")"
      ],
      "execution_count": null,
      "outputs": []
    },
    {
      "cell_type": "code",
      "metadata": {
        "id": "_YQlKVaH25kN"
      },
      "source": [
        "#kreiramo estimator koji predstavlja algoritam mašinskog učenja\n",
        "from pyspark.ml.classification import RandomForestClassifier\n",
        "\n",
        "forest = RandomForestClassifier(featuresCol=\"features\",labelCol=\"Survived\")"
      ],
      "execution_count": null,
      "outputs": []
    },
    {
      "cell_type": "code",
      "metadata": {
        "id": "fy_h9Vls33WZ"
      },
      "source": [
        "#kreiramo Pipeline\n",
        "from pyspark.ml import Pipeline\n",
        "\n",
        "pipeline = Pipeline(stages=[indexer,onehot,assembler,forest])\n",
        "model = pipeline.fit(train)\n",
        "prediction = model.transform(test)"
      ],
      "execution_count": null,
      "outputs": []
    },
    {
      "cell_type": "code",
      "metadata": {
        "id": "yFCeEDkK4xEx",
        "outputId": "9bd4e11b-617d-4066-83f5-9b7fc874f0c3",
        "colab": {
          "base_uri": "https://localhost:8080/",
          "height": 51
        }
      },
      "source": [
        "#evaluacija modela\n",
        "from pyspark.ml.evaluation import BinaryClassificationEvaluator\n",
        "evaluator = BinaryClassificationEvaluator(labelCol=\"Survived\")\n",
        "print(\"Metrika: \",evaluator.getMetricName())\n",
        "evaluator.evaluate(prediction)"
      ],
      "execution_count": null,
      "outputs": [
        {
          "output_type": "stream",
          "text": [
            "Metrika:  areaUnderROC\n"
          ],
          "name": "stdout"
        },
        {
          "output_type": "execute_result",
          "data": {
            "text/plain": [
              "0.8536844135802468"
            ]
          },
          "metadata": {
            "tags": []
          },
          "execution_count": 82
        }
      ]
    },
    {
      "cell_type": "markdown",
      "metadata": {
        "id": "NTc_CEMQ-y_4"
      },
      "source": [
        "###Zadatak\n",
        "Model pogađa sa tačnošću od 85% pri tome nismo podešavali ništa od hiperparametara, uzeli smo default vrednosti. Koristili smo RandomForest algoritam i uzeli smo samo tri kolone kao osobine atributa. Probajte da dobijete bolji rezultat, menjajući algoritam, atribute koji ulaze u analizu i konfigurisanje hiperparametara korišćenjem validatora"
      ]
    },
    {
      "cell_type": "code",
      "metadata": {
        "id": "l6SkIYLM-yJ5"
      },
      "source": [
        "from pyspark.sql import SparkSession\n",
        "spark = SparkSession.builder.master(\"local[*]\").getOrCreate()"
      ],
      "execution_count": null,
      "outputs": []
    },
    {
      "cell_type": "code",
      "metadata": {
        "id": "jhK205IhUj_d",
        "outputId": "3daf343a-e718-488d-fdae-19eda134ea4a",
        "colab": {
          "base_uri": "https://localhost:8080/",
          "height": 237
        }
      },
      "source": [
        "data = spark.read.csv('/content/drive/My Drive/train.csv',header=True)\n",
        "print(data.count())\n",
        "data.show(5)"
      ],
      "execution_count": null,
      "outputs": [
        {
          "output_type": "stream",
          "text": [
            "891\n",
            "+-----------+--------+------+--------------------+------+---+-----+-----+----------------+-------+-----+--------+\n",
            "|PassengerId|Survived|Pclass|                Name|   Sex|Age|SibSp|Parch|          Ticket|   Fare|Cabin|Embarked|\n",
            "+-----------+--------+------+--------------------+------+---+-----+-----+----------------+-------+-----+--------+\n",
            "|          1|       0|     3|Braund, Mr. Owen ...|  male| 22|    1|    0|       A/5 21171|   7.25| null|       S|\n",
            "|          2|       1|     1|Cumings, Mrs. Joh...|female| 38|    1|    0|        PC 17599|71.2833|  C85|       C|\n",
            "|          3|       1|     3|Heikkinen, Miss. ...|female| 26|    0|    0|STON/O2. 3101282|  7.925| null|       S|\n",
            "|          4|       1|     1|Futrelle, Mrs. Ja...|female| 35|    1|    0|          113803|   53.1| C123|       S|\n",
            "|          5|       0|     3|Allen, Mr. Willia...|  male| 35|    0|    0|          373450|   8.05| null|       S|\n",
            "+-----------+--------+------+--------------------+------+---+-----+-----+----------------+-------+-----+--------+\n",
            "only showing top 5 rows\n",
            "\n"
          ],
          "name": "stdout"
        }
      ]
    },
    {
      "cell_type": "code",
      "metadata": {
        "id": "LV470CZFU6Rd",
        "outputId": "49b698a3-6198-4992-9947-45bdf689c22b",
        "colab": {
          "base_uri": "https://localhost:8080/",
          "height": 127
        }
      },
      "source": [
        "import pyspark.sql.functions as F\n",
        "\n",
        "data.select([F.count(F.when(F.isnan(i) | F.col(i).contains('NA') | F.col(i).contains('NULL') | F.col(i).isNull(), i)).alias(i) for i in data.columns]).show()"
      ],
      "execution_count": null,
      "outputs": [
        {
          "output_type": "stream",
          "text": [
            "+-----------+--------+------+----+---+---+-----+-----+------+----+-----+--------+\n",
            "|PassengerId|Survived|Pclass|Name|Sex|Age|SibSp|Parch|Ticket|Fare|Cabin|Embarked|\n",
            "+-----------+--------+------+----+---+---+-----+-----+------+----+-----+--------+\n",
            "|          0|       0|     0|   0|  0|177|    0|    0|     0|   0|  687|       2|\n",
            "+-----------+--------+------+----+---+---+-----+-----+------+----+-----+--------+\n",
            "\n"
          ],
          "name": "stdout"
        }
      ]
    },
    {
      "cell_type": "code",
      "metadata": {
        "id": "vcHSA1LBWemf",
        "outputId": "dbb43092-6a9b-482a-e995-77a3813681f4",
        "colab": {
          "base_uri": "https://localhost:8080/",
          "height": 384
        }
      },
      "source": [
        "avg_age = int(data.agg(F.mean(data['Age'])).collect()[0]['avg(Age)'])\n",
        "print(avg_age)\n",
        "mod_embarkation = data.groupBy('Embarked').count().orderBy(F.desc('count')).collect()[0]['Embarked']\n",
        "print(mod_embarkation)\n",
        "data2 = data.fillna({'Age': avg_age, 'Embarked': mod_embarkation})\n",
        "data3 = data2.drop('Cabin').drop('PassengerId').drop('Ticket').drop('Name')\n",
        "print(data3.show(5))\n",
        "data3.select([F.count(F.when(F.isnan(i) | F.col(i).contains('NA') | F.col(i).contains('NULL') | F.col(i).isNull(), i)).alias(i) for i in data3.columns]).show()"
      ],
      "execution_count": null,
      "outputs": [
        {
          "output_type": "stream",
          "text": [
            "29\n",
            "S\n",
            "+--------+------+------+---+-----+-----+-------+--------+\n",
            "|Survived|Pclass|   Sex|Age|SibSp|Parch|   Fare|Embarked|\n",
            "+--------+------+------+---+-----+-----+-------+--------+\n",
            "|       0|     3|  male| 22|    1|    0|   7.25|       S|\n",
            "|       1|     1|female| 38|    1|    0|71.2833|       C|\n",
            "|       1|     3|female| 26|    0|    0|  7.925|       S|\n",
            "|       1|     1|female| 35|    1|    0|   53.1|       S|\n",
            "|       0|     3|  male| 35|    0|    0|   8.05|       S|\n",
            "+--------+------+------+---+-----+-----+-------+--------+\n",
            "only showing top 5 rows\n",
            "\n",
            "None\n",
            "+--------+------+---+---+-----+-----+----+--------+\n",
            "|Survived|Pclass|Sex|Age|SibSp|Parch|Fare|Embarked|\n",
            "+--------+------+---+---+-----+-----+----+--------+\n",
            "|       0|     0|  0|  0|    0|    0|   0|       0|\n",
            "+--------+------+---+---+-----+-----+----+--------+\n",
            "\n"
          ],
          "name": "stdout"
        }
      ]
    },
    {
      "cell_type": "code",
      "metadata": {
        "id": "rzII-z6Bh-M5"
      },
      "source": [
        "from pyspark.sql.types import *\n",
        "data4 = data3.withColumn(\"Age\",data3[\"Age\"].cast(IntegerType())). \\\n",
        "                withColumn(\"Pclass\",data3[\"Pclass\"].cast(IntegerType())). \\\n",
        "                withColumn(\"Survived\",data3[\"Survived\"].cast(DoubleType())). \\\n",
        "                withColumn(\"SibSp\",data3[\"SibSp\"].cast(IntegerType())). \\\n",
        "                withColumn(\"Parch\",data3[\"Parch\"].cast(IntegerType())). \\\n",
        "                withColumn(\"Fare\",data3[\"Fare\"].cast(DoubleType()))"
      ],
      "execution_count": null,
      "outputs": []
    },
    {
      "cell_type": "code",
      "metadata": {
        "id": "OIPvFYxsj_Qq",
        "outputId": "5b8dbe36-2522-4b3a-ef2e-6f85b11a00b7",
        "colab": {
          "base_uri": "https://localhost:8080/",
          "height": 164
        }
      },
      "source": [
        "data4.groupBy('Pclass').avg('Survived').show()"
      ],
      "execution_count": null,
      "outputs": [
        {
          "output_type": "stream",
          "text": [
            "+------+-------------------+\n",
            "|Pclass|      avg(Survived)|\n",
            "+------+-------------------+\n",
            "|     1| 0.6296296296296297|\n",
            "|     3|0.24236252545824846|\n",
            "|     2|0.47282608695652173|\n",
            "+------+-------------------+\n",
            "\n"
          ],
          "name": "stdout"
        }
      ]
    },
    {
      "cell_type": "code",
      "metadata": {
        "id": "cEpUFzHykDX4",
        "outputId": "75a15c72-8139-467b-adf2-7947dfda74b2",
        "colab": {
          "base_uri": "https://localhost:8080/",
          "height": 146
        }
      },
      "source": [
        "data4.groupBy('Sex').avg('Survived').show()"
      ],
      "execution_count": null,
      "outputs": [
        {
          "output_type": "stream",
          "text": [
            "+------+-------------------+\n",
            "|   Sex|      avg(Survived)|\n",
            "+------+-------------------+\n",
            "|female| 0.7420382165605095|\n",
            "|  male|0.18890814558058924|\n",
            "+------+-------------------+\n",
            "\n"
          ],
          "name": "stdout"
        }
      ]
    },
    {
      "cell_type": "code",
      "metadata": {
        "id": "BlzmFEnskHIE",
        "outputId": "ddcd50fe-6201-4699-e85c-6ef47ca25f24",
        "colab": {
          "base_uri": "https://localhost:8080/",
          "height": 237
        }
      },
      "source": [
        "data4.groupBy('SibSp').avg('Survived').show()"
      ],
      "execution_count": null,
      "outputs": [
        {
          "output_type": "stream",
          "text": [
            "+-----+-------------------+\n",
            "|SibSp|      avg(Survived)|\n",
            "+-----+-------------------+\n",
            "|    1| 0.5358851674641149|\n",
            "|    3|               0.25|\n",
            "|    5|                0.0|\n",
            "|    4|0.16666666666666666|\n",
            "|    8|                0.0|\n",
            "|    2| 0.4642857142857143|\n",
            "|    0|0.34539473684210525|\n",
            "+-----+-------------------+\n",
            "\n"
          ],
          "name": "stdout"
        }
      ]
    },
    {
      "cell_type": "code",
      "metadata": {
        "id": "7hH09BjqkLVk",
        "outputId": "6527f0f8-f8e2-4aa3-8b7b-8b7b2f3dce17",
        "colab": {
          "base_uri": "https://localhost:8080/",
          "height": 237
        }
      },
      "source": [
        "data4.groupBy('Parch').avg('Survived').show()"
      ],
      "execution_count": null,
      "outputs": [
        {
          "output_type": "stream",
          "text": [
            "+-----+-------------------+\n",
            "|Parch|      avg(Survived)|\n",
            "+-----+-------------------+\n",
            "|    1| 0.5508474576271186|\n",
            "|    6|                0.0|\n",
            "|    3|                0.6|\n",
            "|    5|                0.2|\n",
            "|    4|                0.0|\n",
            "|    2|                0.5|\n",
            "|    0|0.34365781710914456|\n",
            "+-----+-------------------+\n",
            "\n"
          ],
          "name": "stdout"
        }
      ]
    },
    {
      "cell_type": "code",
      "metadata": {
        "id": "SagFvFBrkPDD",
        "outputId": "8cf53417-dc0e-4845-ce1c-9a7489b8e16b",
        "colab": {
          "base_uri": "https://localhost:8080/",
          "height": 164
        }
      },
      "source": [
        "data4.groupBy('Embarked').avg('Survived').show()"
      ],
      "execution_count": null,
      "outputs": [
        {
          "output_type": "stream",
          "text": [
            "+--------+-------------------+\n",
            "|Embarked|      avg(Survived)|\n",
            "+--------+-------------------+\n",
            "|       Q|0.38961038961038963|\n",
            "|       C| 0.5535714285714286|\n",
            "|       S|0.33900928792569657|\n",
            "+--------+-------------------+\n",
            "\n"
          ],
          "name": "stdout"
        }
      ]
    },
    {
      "cell_type": "code",
      "metadata": {
        "id": "FvBLAzmElwll",
        "outputId": "87151bb6-5c77-46a9-e723-9a5d55d4d6ca",
        "colab": {
          "base_uri": "https://localhost:8080/",
          "height": 274
        }
      },
      "source": [
        "data5 = data4.withColumn('FamSz', F.col('Parch') + F.col('SibSp') + 1)\n",
        "data5.groupBy('FamSz').avg('Survived').show()"
      ],
      "execution_count": null,
      "outputs": [
        {
          "output_type": "stream",
          "text": [
            "+-----+-------------------+\n",
            "|FamSz|      avg(Survived)|\n",
            "+-----+-------------------+\n",
            "|    1|0.30353817504655495|\n",
            "|    6|0.13636363636363635|\n",
            "|    3| 0.5784313725490197|\n",
            "|    5|                0.2|\n",
            "|    4| 0.7241379310344828|\n",
            "|    8|                0.0|\n",
            "|    7| 0.3333333333333333|\n",
            "|   11|                0.0|\n",
            "|    2| 0.5527950310559007|\n",
            "+-----+-------------------+\n",
            "\n"
          ],
          "name": "stdout"
        }
      ]
    },
    {
      "cell_type": "code",
      "metadata": {
        "id": "OrO9wE7Cm1Dg",
        "outputId": "6f42379b-ec8b-40c6-ba24-b5974cb522bd",
        "colab": {
          "base_uri": "https://localhost:8080/",
          "height": 297
        }
      },
      "source": [
        "import pandas as pd\n",
        "import matplotlib.pyplot as plt\n",
        "import seaborn as sn\n",
        "import numpy as np\n",
        "\n",
        "hist_data = data5.select(['Age', 'Fare', 'Survived']).toPandas()\n",
        "sn.distplot(hist_data[hist_data.Survived == 0]['Age'],  kde=False, label='Died')\n",
        "sn.distplot(hist_data[hist_data.Survived == 1]['Age'],  kde=False, label='Survived')\n",
        "plt.legend(prop={'size': 12})"
      ],
      "execution_count": null,
      "outputs": [
        {
          "output_type": "execute_result",
          "data": {
            "text/plain": [
              "<matplotlib.legend.Legend at 0x7f20da087cc0>"
            ]
          },
          "metadata": {
            "tags": []
          },
          "execution_count": 66
        },
        {
          "output_type": "display_data",
          "data": {
            "image/png": "[encoded data removed]",
            "text/plain": [
              "<Figure size 432x288 with 1 Axes>"
            ]
          },
          "metadata": {
            "tags": [],
            "needs_background": "light"
          }
        }
      ]
    },
    {
      "cell_type": "code",
      "metadata": {
        "id": "cgXJ5XRIpzbS",
        "outputId": "9cbcc860-5ab1-498d-f9d3-965ff46e213e",
        "colab": {
          "base_uri": "https://localhost:8080/",
          "height": 297
        }
      },
      "source": [
        "sn.distplot(hist_data[hist_data.Survived == 0]['Fare'],  kde=False, label='Died')\n",
        "sn.distplot(hist_data[hist_data.Survived == 1]['Fare'],  kde=False, label='Survived')\n",
        "plt.legend(prop={'size': 12})"
      ],
      "execution_count": null,
      "outputs": [
        {
          "output_type": "execute_result",
          "data": {
            "text/plain": [
              "<matplotlib.legend.Legend at 0x7f20da9c5160>"
            ]
          },
          "metadata": {
            "tags": []
          },
          "execution_count": 67
        },
        {
          "output_type": "display_data",
          "data": {
            "image/png": "[encoded data removed]",
            "text/plain": [
              "<Figure size 432x288 with 1 Axes>"
            ]
          },
          "metadata": {
            "tags": [],
            "needs_background": "light"
          }
        }
      ]
    },
    {
      "cell_type": "code",
      "metadata": {
        "id": "779aygYvtyO4"
      },
      "source": [
        "splits = data5.randomSplit([0.8,0.2])\n",
        "train = splits[0]\n",
        "test = splits[1]"
      ],
      "execution_count": null,
      "outputs": []
    },
    {
      "cell_type": "code",
      "metadata": {
        "id": "SYXEKReGp_za"
      },
      "source": [
        "from pyspark.ml.feature import StringIndexer\n",
        "\n",
        "sex_indexer = StringIndexer(inputCol=\"Sex\",outputCol=\"SexNum\")\n",
        "embarked_indexer = StringIndexer(inputCol=\"Embarked\",outputCol=\"EmNum\")"
      ],
      "execution_count": null,
      "outputs": []
    },
    {
      "cell_type": "code",
      "metadata": {
        "id": "1UdfL-PGrOL2"
      },
      "source": [
        "from pyspark.ml.feature import OneHotEncoderEstimator\n",
        "\n",
        "onehot = OneHotEncoderEstimator(inputCols=[\"SexNum\",\"Pclass\",\"EmNum\",\"FamSz\"],outputCols=[\"SexVec\",\"PclassVec\",\"EmVec\",\"FamSzVec\"]) "
      ],
      "execution_count": null,
      "outputs": []
    },
    {
      "cell_type": "code",
      "metadata": {
        "id": "75avRaWgrxhI"
      },
      "source": [
        "from pyspark.ml.feature import VectorAssembler\n",
        "\n",
        "assembler = VectorAssembler(inputCols=[\"Age\",\"SexVec\",\"PclassVec\",\"Fare\",\"EmVec\",\"FamSzVec\"],outputCol=\"features\")"
      ],
      "execution_count": null,
      "outputs": []
    },
    {
      "cell_type": "code",
      "metadata": {
        "id": "xo8qGKeEsDvk"
      },
      "source": [
        "from pyspark.ml.classification import RandomForestClassifier\n",
        "\n",
        "forest = RandomForestClassifier(featuresCol=\"features\",labelCol=\"Survived\")"
      ],
      "execution_count": null,
      "outputs": []
    },
    {
      "cell_type": "code",
      "metadata": {
        "id": "IHrYovhKsLX3"
      },
      "source": [
        "from pyspark.ml import Pipeline\n",
        "\n",
        "pipeline = Pipeline(stages=[sex_indexer,embarked_indexer,onehot,assembler,forest])\n",
        "model = pipeline.fit(train)\n",
        "prediction = model.transform(test)"
      ],
      "execution_count": null,
      "outputs": []
    },
    {
      "cell_type": "code",
      "metadata": {
        "id": "q64_k_g8s743",
        "outputId": "7d1aff74-e549-40dc-9bee-695ef31a2403",
        "colab": {
          "base_uri": "https://localhost:8080/",
          "height": 54
        }
      },
      "source": [
        "from pyspark.ml.evaluation import BinaryClassificationEvaluator\n",
        "evaluator = BinaryClassificationEvaluator(labelCol=\"Survived\")\n",
        "print(\"Metrika: \",evaluator.getMetricName())\n",
        "evaluator.evaluate(prediction)"
      ],
      "execution_count": null,
      "outputs": [
        {
          "output_type": "stream",
          "text": [
            "Metrika:  areaUnderROC\n"
          ],
          "name": "stdout"
        },
        {
          "output_type": "execute_result",
          "data": {
            "text/plain": [
              "0.895887281035796"
            ]
          },
          "metadata": {
            "tags": []
          },
          "execution_count": 111
        }
      ]
    },
    {
      "cell_type": "code",
      "metadata": {
        "id": "fgGV-mj3xLPJ",
        "outputId": "b1f35556-1a48-4c29-89cc-28532924fdd8",
        "colab": {
          "base_uri": "https://localhost:8080/",
          "height": 54
        }
      },
      "source": [
        "from pyspark.ml.classification import LogisticRegression\n",
        "\n",
        "logReg = LogisticRegression(featuresCol=\"features\", labelCol=\"Survived\")\n",
        "pipeline2 = Pipeline(stages=[sex_indexer,embarked_indexer,onehot,assembler,logReg])\n",
        "model2 = pipeline2.fit(train)\n",
        "prediction2 = model2.transform(test)\n",
        "evaluator2 = BinaryClassificationEvaluator(labelCol=\"Survived\")\n",
        "print(\"Metrika: \",evaluator2.getMetricName())\n",
        "evaluator2.evaluate(prediction2)"
      ],
      "execution_count": null,
      "outputs": [
        {
          "output_type": "stream",
          "text": [
            "Metrika:  areaUnderROC\n"
          ],
          "name": "stdout"
        },
        {
          "output_type": "execute_result",
          "data": {
            "text/plain": [
              "0.8955064737242953"
            ]
          },
          "metadata": {
            "tags": []
          },
          "execution_count": 118
        }
      ]
    },
    {
      "cell_type": "code",
      "metadata": {
        "id": "MJ8XZnxgzMT1",
        "outputId": "6a7aef51-1051-46c7-e5c9-dbebbc5e49ca",
        "colab": {
          "base_uri": "https://localhost:8080/",
          "height": 54
        }
      },
      "source": [
        "from pyspark.ml.tuning import ParamGridBuilder,TrainValidationSplit\n",
        "from pyspark.ml.evaluation import BinaryClassificationEvaluator\n",
        "\n",
        "paramGrid = ParamGridBuilder().addGrid(logReg.regParam,[0.0,0.2,0.5]).addGrid(logReg.maxIter,[100,200]).build()\n",
        "ev = BinaryClassificationEvaluator(labelCol=\"Survived\")\n",
        "validator = TrainValidationSplit(estimator=pipeline2, estimatorParamMaps=paramGrid, evaluator=ev,collectSubModels=True)\n",
        "model22 = validator.fit(train)\n",
        "prediction22 = model22.transform(test)\n",
        "evaluator22 = BinaryClassificationEvaluator(labelCol=\"Survived\")\n",
        "print(\"Metrika: \",evaluator22.getMetricName())\n",
        "evaluator22.evaluate(prediction22)"
      ],
      "execution_count": null,
      "outputs": [
        {
          "output_type": "stream",
          "text": [
            "Metrika:  areaUnderROC\n"
          ],
          "name": "stdout"
        },
        {
          "output_type": "execute_result",
          "data": {
            "text/plain": [
              "0.8955064737242953"
            ]
          },
          "metadata": {
            "tags": []
          },
          "execution_count": 124
        }
      ]
    }
  ]
}