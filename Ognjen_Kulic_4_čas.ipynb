{
  "nbformat": 4,
  "nbformat_minor": 0,
  "metadata": {
    "colab": {
      "name": "Ognjen Kulic- 4.čas",
      "provenance": [],
      "toc_visible": true,
      "include_colab_link": true
    },
    "kernelspec": {
      "name": "python3",
      "display_name": "Python 3"
    }
  },
  "cells": [
    {
      "cell_type": "markdown",
      "metadata": {
        "id": "view-in-github",
        "colab_type": "text"
      },
      "source": [
        "<a href=\"https://colab.research.google.com/github/Coolicc/Big-Data-Analysis-PySpark/blob/main/Ognjen_Kulic_4_%C4%8Das.ipynb\" target=\"_parent\"><img src=\"https://colab.research.google.com/assets/colab-badge.svg\" alt=\"Open In Colab\"/></a>"
      ]
    },
    {
      "cell_type": "markdown",
      "metadata": {
        "id": "jzPvCGFSrYjH"
      },
      "source": [
        "####Podešavanje Sparka za rad u Google Colabu\n",
        "#####Izvršite sve komande u datom redosledu"
      ]
    },
    {
      "cell_type": "code",
      "metadata": {
        "id": "fGqy-W2UA7Hp",
        "outputId": "1fbe6fd5-4007-44e1-8d03-99a9db0af137",
        "colab": {
          "base_uri": "https://localhost:8080/",
          "height": 72
        }
      },
      "source": [
        "!java -version"
      ],
      "execution_count": null,
      "outputs": [
        {
          "output_type": "stream",
          "text": [
            "openjdk version \"11.0.6\" 2020-01-14\n",
            "OpenJDK Runtime Environment (build 11.0.6+10-post-Ubuntu-1ubuntu118.04.1)\n",
            "OpenJDK 64-Bit Server VM (build 11.0.6+10-post-Ubuntu-1ubuntu118.04.1, mixed mode, sharing)\n"
          ],
          "name": "stdout"
        }
      ]
    },
    {
      "cell_type": "code",
      "metadata": {
        "id": "GzdA3TFF_vvd",
        "outputId": "60917f07-063f-4d18-e0ae-23fc40daf019",
        "colab": {
          "base_uri": "https://localhost:8080/",
          "height": 182
        }
      },
      "source": [
        "!update-alternatives --config java"
      ],
      "execution_count": null,
      "outputs": [
        {
          "output_type": "stream",
          "text": [
            "There are 2 choices for the alternative java (providing /usr/bin/java).\n",
            "\n",
            "  Selection    Path                                            Priority   Status\n",
            "------------------------------------------------------------\n",
            "* 0            /usr/lib/jvm/java-11-openjdk-amd64/bin/java      1111      auto mode\n",
            "  1            /usr/lib/jvm/java-11-openjdk-amd64/bin/java      1111      manual mode\n",
            "  2            /usr/lib/jvm/java-8-openjdk-amd64/jre/bin/java   1081      manual mode\n",
            "\n",
            "Press <enter> to keep the current choice[*], or type selection number: \n"
          ],
          "name": "stdout"
        }
      ]
    },
    {
      "cell_type": "code",
      "metadata": {
        "id": "2_zujIW1nrTM"
      },
      "source": [
        "import os\n",
        "os.environ[\"JAVA_HOME\"] = \"/usr/lib/jvm/java-8-openjdk-amd64\""
      ],
      "execution_count": null,
      "outputs": []
    },
    {
      "cell_type": "code",
      "metadata": {
        "id": "6k-NHUISr6lr",
        "outputId": "e41d5e1b-cca7-4460-b640-4e41c7424702",
        "colab": {
          "base_uri": "https://localhost:8080/",
          "height": 256
        }
      },
      "source": [
        "!pip install pyspark"
      ],
      "execution_count": null,
      "outputs": [
        {
          "output_type": "stream",
          "text": [
            "Collecting pyspark\n",
            "\u001b[?25l  Downloading https://files.pythonhosted.org/packages/9a/5a/271c416c1c2185b6cb0151b29a91fff6fcaed80173c8584ff6d20e46b465/pyspark-2.4.5.tar.gz (217.8MB)\n",
            "\u001b[K     |████████████████████████████████| 217.8MB 62kB/s \n",
            "\u001b[?25hCollecting py4j==0.10.7\n",
            "\u001b[?25l  Downloading https://files.pythonhosted.org/packages/e3/53/c737818eb9a7dc32a7cd4f1396e787bd94200c3997c72c1dbe028587bd76/py4j-0.10.7-py2.py3-none-any.whl (197kB)\n",
            "\u001b[K     |████████████████████████████████| 204kB 42.1MB/s \n",
            "\u001b[?25hBuilding wheels for collected packages: pyspark\n",
            "  Building wheel for pyspark (setup.py) ... \u001b[?25l\u001b[?25hdone\n",
            "  Created wheel for pyspark: filename=pyspark-2.4.5-py2.py3-none-any.whl size=218257927 sha256=7e65cbeaefb02827f973fc292a4b920cc8a7e38d8cd0f6dcca1de702389585ee\n",
            "  Stored in directory: /root/.cache/pip/wheels/bf/db/04/61d66a5939364e756eb1c1be4ec5bdce6e04047fc7929a3c3c\n",
            "Successfully built pyspark\n",
            "Installing collected packages: py4j, pyspark\n",
            "Successfully installed py4j-0.10.7 pyspark-2.4.5\n"
          ],
          "name": "stdout"
        }
      ]
    },
    {
      "cell_type": "markdown",
      "metadata": {
        "id": "p3DKzg6Msjq6"
      },
      "source": [
        "####Dokumentacija za funkcije u PySpark-u https://spark.apache.org/docs/latest/api/python/index.html"
      ]
    },
    {
      "cell_type": "code",
      "metadata": {
        "id": "hKmloqHiZOnD",
        "outputId": "fd67425b-08cb-4b80-b0c6-dc1b52e21e64",
        "colab": {
          "base_uri": "https://localhost:8080/",
          "height": 129
        }
      },
      "source": [
        "from google.colab import drive\n",
        "drive.mount('/content/drive')"
      ],
      "execution_count": null,
      "outputs": [
        {
          "output_type": "stream",
          "text": [
            "Go to this URL in a browser: https://accounts.google.com/o/oauth2/auth?client_id=947318989803-6bn6qk8qdgf4n4g3pfee6491hc0brc4i.apps.googleusercontent.com&redirect_uri=urn%3aietf%3awg%3aoauth%3a2.0%3aoob&response_type=code&scope=email%20https%3a%2f%2fwww.googleapis.com%2fauth%2fdocs.test%20https%3a%2f%2fwww.googleapis.com%2fauth%2fdrive%20https%3a%2f%2fwww.googleapis.com%2fauth%2fdrive.photos.readonly%20https%3a%2f%2fwww.googleapis.com%2fauth%2fpeopleapi.readonly\n",
            "\n",
            "Enter your authorization code:\n",
            "··········\n",
            "Mounted at /content/drive\n"
          ],
          "name": "stdout"
        }
      ]
    },
    {
      "cell_type": "markdown",
      "metadata": {
        "id": "DH-zsR2b71mW"
      },
      "source": [
        "###Zadatak 1\n",
        "Preuzeti fajl sa adrese https://drive.google.com/file/d/1CYwx-T0TtjF_MfWIkYiEjirKK6LjS3pz/view?usp=sharing i dodati ga na vaš Google Drive. Separtor je znak ~. Fajl predstavlja kolekciju postova. Kolone su redom: broj komentara na postu, datum poslednje aktivnosti, id vlasnika posta, sadržaj posta, ocena, datum kreiranja, broj pregleda,naslov, tagovi, broj odgovora, id prihvaćenog odgovora,tip posta (1 ako je pitanje, 2 ako je odgovor), id posta. Odgovori na post su takođe postovi pa postoji zavisnost između id odgovora i samog id posta (zamislite rekurzivnu relaciju u relacionoj bazi)"
      ]
    },
    {
      "cell_type": "markdown",
      "metadata": {
        "id": "aHQWmfRT71IU"
      },
      "source": [
        "Inicijalizovati Spark Session"
      ]
    },
    {
      "cell_type": "code",
      "metadata": {
        "id": "DE_sz0B17ZBB"
      },
      "source": [
        "from pyspark.sql import SparkSession\n",
        "spark = SparkSession.builder.master(\"local[*]\").getOrCreate()\n"
      ],
      "execution_count": null,
      "outputs": []
    },
    {
      "cell_type": "markdown",
      "metadata": {
        "id": "4lUyf0uo70ik"
      },
      "source": [
        "Fajl nema header zato ćemo kreirati semu gde ćemo definisati nazive kolona i njihove tipove. Ukoliko to ne uradimo sve kolone će biti tipa String"
      ]
    },
    {
      "cell_type": "code",
      "metadata": {
        "id": "9NvUXq4q7zpo"
      },
      "source": [
        "#ovo je šema za zadati fajl\n",
        "from pyspark.sql.types import *\n",
        "from pyspark.sql import Row\n",
        "from datetime import datetime\n",
        "\n",
        "postSchema = StructType([\n",
        "  StructField(\"commentCount\", IntegerType(), True),\n",
        "  StructField(\"lastActivityDate\", TimestampType(), True),\n",
        "  StructField(\"ownerUserId\", IntegerType(), True),\n",
        "  StructField(\"body\", StringType(), True),\n",
        "  StructField(\"score\", IntegerType(), True),\n",
        "  StructField(\"creationDate\", TimestampType(), True),\n",
        "  StructField(\"viewCount\", IntegerType(), True),\n",
        "  StructField(\"title\", StringType(), True),\n",
        "  StructField(\"tags\", StringType(), True),\n",
        "  StructField(\"answerCount\", IntegerType(), True),\n",
        "  StructField(\"acceptedAnswerId\", LongType(), True),\n",
        "  StructField(\"postTypeId\", IntegerType(), True),\n",
        "  StructField(\"id\", IntegerType(), False)\n",
        "  ])"
      ],
      "execution_count": null,
      "outputs": []
    },
    {
      "cell_type": "markdown",
      "metadata": {
        "id": "Ymvzr7ki7zDe"
      },
      "source": [
        "Ucitati fajl italianPosts.csv i definisati mu šemu"
      ]
    },
    {
      "cell_type": "code",
      "metadata": {
        "id": "UW_ZV2L57yg5"
      },
      "source": [
        "#pri testiranju promeniti putanju do fajla u skladu sa vasom putanjom\n",
        "postsDF = spark.read.csv(\"/content/drive/My Drive/italianPosts.csv\",sep='~', schema=postSchema)"
      ],
      "execution_count": null,
      "outputs": []
    },
    {
      "cell_type": "code",
      "metadata": {
        "outputId": "1891cdae-0e85-4f63-d704-baff3183faa7",
        "id": "QU8Scm4T7x7q",
        "colab": {
          "base_uri": "https://localhost:8080/",
          "height": 698
        }
      },
      "source": [
        "postsDF.show(30)"
      ],
      "execution_count": null,
      "outputs": [
        {
          "output_type": "stream",
          "text": [
            "+------------+--------------------+-----------+--------------------+-----+--------------------+---------+--------------------+--------------------+-----------+----------------+----------+----+\n",
            "|commentCount|    lastActivityDate|ownerUserId|                body|score|        creationDate|viewCount|               title|                tags|answerCount|acceptedAnswerId|postTypeId|  id|\n",
            "+------------+--------------------+-----------+--------------------+-----+--------------------+---------+--------------------+--------------------+-----------+----------------+----------+----+\n",
            "|        null|                null|       null|                null| null|                null|     null|                null|                null|       null|            null|      null|null|\n",
            "|        null|                null|       null|                null| null|                null|     null|                null|                null|       null|            null|      null|null|\n",
            "|        null|                null|       null|                null| null|                null|     null|                null|                null|       null|            null|      null|null|\n",
            "|           1|2014-07-25 13:15:...|        154|&lt;p&gt;As part ...|   11|2013-11-10 22:03:...|      187|Ironic constructi...|&lt;english-compa...|          4|            1170|         1|1168|\n",
            "|        null|                null|       null|                null| null|                null|     null|                null|                null|       null|            null|      null|null|\n",
            "|        null|                null|       null|                null| null|                null|     null|                null|                null|       null|            null|      null|null|\n",
            "|        null|                null|       null|                null| null|                null|     null|                null|                null|       null|            null|      null|null|\n",
            "|        null|                null|       null|                null| null|                null|     null|                null|                null|       null|            null|      null|null|\n",
            "|           9|2014-01-05 11:13:...|         63|&lt;p&gt;When I w...|    5|2013-11-11 10:28:...|      122|Is &quot;scancell...|&lt;usage&gt;&lt;...|          3|            1181|         1|1173|\n",
            "|        null|                null|       null|                null| null|                null|     null|                null|                null|       null|            null|      null|null|\n",
            "|           1|2014-01-16 19:56:...|         63|&lt;p&gt;Suppose ...|    4|2013-11-11 11:31:...|      114|How should I tran...|&lt;usage&gt;&lt;...|          2|            1177|         1|1175|\n",
            "|           0|2013-11-11 14:36:...|         63|&lt;p&gt;Except w...|    3|2013-11-11 11:39:...|       58|Using a comma bet...|&lt;usage&gt;&lt;...|          2|            1182|         1|1176|\n",
            "|        null|                null|       null|                null| null|                null|     null|                null|                null|       null|            null|      null|null|\n",
            "|        null|                null|       null|                null| null|                null|     null|                null|                null|       null|            null|      null|null|\n",
            "|           0|2013-11-12 11:24:...|         63|&lt;p&gt;Comparin...|    3|2013-11-11 12:58:...|       60|Using the conditi...|&lt;usage&gt;&lt;...|          2|            1180|         1|1179|\n",
            "|        null|                null|       null|                null| null|                null|     null|                null|                null|       null|            null|      null|null|\n",
            "|        null|                null|       null|                null| null|                null|     null|                null|                null|       null|            null|      null|null|\n",
            "|        null|                null|       null|                null| null|                null|     null|                null|                null|       null|            null|      null|null|\n",
            "|           2|2013-11-14 09:56:...|         22|&lt;p&gt;Many peo...|    6|2013-11-11 14:43:...|      321|Can Dante Alighie...|&lt;history&gt;&l...|          1|            1263|         1|1183|\n",
            "|           2|2013-11-11 23:23:...|        159|&lt;p&gt;Sono un'...|    7|2013-11-11 18:19:...|      138|origine dell'espr...|&lt;idioms&gt;&lt...|          2|            1185|         1|1184|\n",
            "|        null|                null|       null|                null| null|                null|     null|                null|                null|       null|            null|      null|null|\n",
            "|        null|                null|       null|                null| null|                null|     null|                null|                null|       null|            null|      null|null|\n",
            "|        null|                null|       null|                null| null|                null|     null|                null|                null|       null|            null|      null|null|\n",
            "|        null|                null|       null|                null| null|                null|     null|                null|                null|       null|            null|      null|null|\n",
            "|        null|                null|       null|                null| null|                null|     null|                null|                null|       null|            null|      null|null|\n",
            "|        null|                null|       null|                null| null|                null|     null|                null|                null|       null|            null|      null|null|\n",
            "|        null|                null|       null|                null| null|                null|     null|                null|                null|       null|            null|      null|null|\n",
            "|           5|2013-11-21 14:04:...|          8|&lt;p&gt;The use ...|   13|2013-11-11 21:01:...|      142|Usage of preposit...|&lt;prepositions&...|          2|            1212|         1|1192|\n",
            "|           0|2013-11-12 09:26:...|         17|&lt;p&gt;When wri...|    5|2013-11-11 21:01:...|       70|What's the correc...|&lt;punctuation&g...|          4|            1195|         1|1193|\n",
            "|        null|                null|       null|                null| null|                null|     null|                null|                null|       null|            null|      null|null|\n",
            "+------------+--------------------+-----------+--------------------+-----+--------------------+---------+--------------------+--------------------+-----------+----------------+----------+----+\n",
            "only showing top 30 rows\n",
            "\n"
          ],
          "name": "stdout"
        }
      ]
    },
    {
      "cell_type": "markdown",
      "metadata": {
        "id": "9o7532ql7xT2"
      },
      "source": [
        "###Zadatak 1\n",
        "Prikazati samo one vrste koje u koloni body sadrže reč Italiano"
      ]
    },
    {
      "cell_type": "code",
      "metadata": {
        "outputId": "8c197a49-c560-43ff-ff12-2916701f628a",
        "id": "RU2i2B2V7wz8",
        "colab": {
          "base_uri": "https://localhost:8080/",
          "height": 1000
        }
      },
      "source": [
        "italianoDF = postsDF.filter(postsDF.body.contains('Italiano') | postsDF.body.contains('italiano'))\n",
        "print(italianoDF.count())\n",
        "print(italianoDF.show(italianoDF.count()))\n",
        "print('--------------------------------------------------------------------------------------------------------------------------------------------------------------------------')\n",
        "print(italianoDF.select('body').count())\n",
        "print(italianoDF.select('body').show(italianoDF.select('body').count()))"
      ],
      "execution_count": null,
      "outputs": [
        {
          "output_type": "stream",
          "text": [
            "145\n",
            "+------------+--------------------+-----------+--------------------+-----+--------------------+---------+--------------------+--------------------+-----------+----------------+----------+----+\n",
            "|commentCount|    lastActivityDate|ownerUserId|                body|score|        creationDate|viewCount|               title|                tags|answerCount|acceptedAnswerId|postTypeId|  id|\n",
            "+------------+--------------------+-----------+--------------------+-----+--------------------+---------+--------------------+--------------------+-----------+----------------+----------+----+\n",
            "|           2|2013-11-11 23:23:...|        159|&lt;p&gt;Sono un'...|    7|2013-11-11 18:19:...|      138|origine dell'espr...|&lt;idioms&gt;&lt...|          2|            1185|         1|1184|\n",
            "|           2|2013-11-27 14:21:...|         22|&lt;p&gt;Ho solo ...|    3|2013-11-23 09:15:...|      474|Uso nell'italiano...|&lt;word-choice&g...|          1|            1408|         1|1366|\n",
            "|           3|2013-11-27 12:03:...|         12|&lt;p&gt;Ci sono ...|    2|2013-11-26 20:08:...|       79|L'espressione 'a ...|       &lt;latin&gt;|          2|            1399|         1|1398|\n",
            "|          11|2014-01-22 16:32:...|         12|&lt;p&gt;Tito Boe...|    5|2014-01-21 03:22:...|      127|Significato di 'a...|     &lt;grammar&gt;|          3|            1626|         1|1621|\n",
            "|           0|2014-08-13 10:06:...|        193|&lt;p&gt;Qualcuno...|    1|2014-08-13 00:55:...|       37|Etimologia del su...|&lt;etymology&gt;...|          1|            2178|         1|2175|\n",
            "|           1|2014-08-18 20:25:...|        232|&lt;p&gt;Mi chied...|    6|2014-08-13 12:31:...|      225|&quot;avrei dovut...|&lt;verbs&gt;&lt;...|          2|            2185|         1|2184|\n",
            "|           3|2013-11-10 02:24:...|         22|&lt;p&gt;Ogni lin...|    3|2013-11-09 10:45:...|      122|Creatività e dina...|&lt;history&gt;&l...|          3|            1158|         1| 136|\n",
            "|           3|2014-05-22 04:45:...|        193|&lt;p&gt;Qual è l...|    5|2014-03-30 00:39:...|      110|Una persona che v...|&lt;adjectives&gt...|          2|            1853|         1|1852|\n",
            "|           0|2014-05-08 21:09:...|        523|&lt;p&gt;What is ...|    8|2014-04-21 19:17:...|      226|Sapere vs conosce...|&lt;word-choice&g...|          2|            1905|         1|1904|\n",
            "|           1|2014-05-23 19:22:...|         22|&lt;p&gt;In itali...|    7|2014-05-21 19:04:...|      141|&quot;Rimasta inc...|&lt;verbs&gt;&lt;...|          2|            1968|         1|1967|\n",
            "|           2|2014-06-07 12:26:...|         95|&lt;p&gt;Ecco una...|   10|2014-06-04 12:59:...|       98|Come mai dal lati...|   &lt;etymology&gt;|          1|            2010|         1|1998|\n",
            "|           0|2014-07-01 09:25:...|        707|&lt;p&gt;Ho trova...|    3|2014-06-29 18:34:...|       61|La parola &quot;t...|&lt;etymology&gt;...|          1|            2031|         1|2030|\n",
            "|           0|2014-07-17 23:35:...|        707|&lt;p&gt;Frequent...|    3|2014-07-01 10:21:...|       53|&quot;Tradurre in...|&lt;word-choice&g...|          2|            2037|         1|2036|\n",
            "|           5|2014-07-28 04:11:...|         22|&lt;p&gt;Qualcuno...|    4|2014-07-04 14:18:...|      130|Origine dell'elis...|&lt;translation&g...|          1|            2132|         1|2042|\n",
            "|           0|2014-07-22 09:45:...|        707|&lt;p&gt;Leggendo...|    3|2014-07-21 12:43:...|       61|Origine della par...|&lt;etymology&gt;...|          2|            2102|         1|2100|\n",
            "+------------+--------------------+-----------+--------------------+-----+--------------------+---------+--------------------+--------------------+-----------+----------------+----------+----+\n",
            "\n",
            "None\n",
            "--------------------------------------------------------------------------------------------------------------------------------------------------------------------------\n",
            "145\n",
            "+--------------------+\n",
            "|                body|\n",
            "+--------------------+\n",
            "|&lt;p&gt;Wow, wha...|\n",
            "|&lt;p&gt;Sono un'...|\n",
            "|&lt;p&gt;&lt;stro...|\n",
            "|&lt;p&gt;They are...|\n",
            "|&lt;p&gt;&lt;a hr...|\n",
            "|&lt;p&gt;b. perch...|\n",
            "|&lt;p&gt;This is ...|\n",
            "|&lt;p&gt;Sicurame...|\n",
            "|&lt;p&gt;Yes, Ita...|\n",
            "|&lt;p&gt;Girando ...|\n",
            "|&lt;p&gt;If we fo...|\n",
            "|&lt;p&gt;First of...|\n",
            "|&lt;p&gt;Il tuo i...|\n",
            "|&lt;p&gt;Come si ...|\n",
            "|&lt;p&gt;The Ital...|\n",
            "|&lt;p&gt;Si tratt...|\n",
            "|&lt;p&gt;Alcuni d...|\n",
            "|&lt;p&gt;Very sho...|\n",
            "|&lt;p&gt;La locuz...|\n",
            "|&lt;p&gt;Accordin...|\n",
            "|&lt;p&gt;First of...|\n",
            "|&lt;p&gt;Ho solo ...|\n",
            "|&lt;p&gt;&lt;em&g...|\n",
            "|&lt;p&gt;Well, ac...|\n",
            "|&lt;p&gt;Immagino...|\n",
            "|&lt;p&gt;Penso ch...|\n",
            "|&lt;p&gt;Ci sono ...|\n",
            "|&lt;p&gt;Si potre...|\n",
            "|&lt;p&gt;Pongo qu...|\n",
            "|&lt;p&gt;La parol...|\n",
            "|&lt;p&gt;Quando g...|\n",
            "|&lt;p&gt;Stai par...|\n",
            "|&lt;p&gt;beh, non...|\n",
            "|&lt;p&gt;L'abbrev...|\n",
            "|&lt;p&gt;Oh Lord,...|\n",
            "|&lt;p&gt;Consulta...|\n",
            "|&lt;p&gt;&quot;se...|\n",
            "|&lt;p&gt;&quot;Se...|\n",
            "|&lt;p&gt;Vorrei s...|\n",
            "|&lt;p&gt;Sono cor...|\n",
            "|&lt;p&gt;Credo ch...|\n",
            "|&lt;p&gt;In realt...|\n",
            "|&lt;p&gt;As egreg...|\n",
            "|&lt;p&gt;Lots of ...|\n",
            "|&lt;p&gt;Not ever...|\n",
            "|&lt;p&gt;Mi ha co...|\n",
            "|&lt;p&gt;I am re-...|\n",
            "|&lt;blockquote&gt...|\n",
            "|&lt;p&gt;Yes, the...|\n",
            "|&lt;p&gt;The use ...|\n",
            "|&lt;p&gt;Tecnicam...|\n",
            "|&lt;p&gt;Often I ...|\n",
            "|&lt;p&gt;It's a b...|\n",
            "|&lt;p&gt;The firs...|\n",
            "|&lt;p&gt;A giudic...|\n",
            "|&lt;p&gt;Tito Boe...|\n",
            "|&lt;p&gt;&lt;stro...|\n",
            "|&lt;p&gt;The adje...|\n",
            "|&lt;blockquote&gt...|\n",
            "|&lt;p&gt;Nell'imm...|\n",
            "|&lt;p&gt;La mia m...|\n",
            "|&lt;p&gt;Trovo ch...|\n",
            "|&lt;p&gt;Se compr...|\n",
            "|&lt;p&gt;&lt;stro...|\n",
            "|&lt;p&gt;Is &lt;e...|\n",
            "|&lt;p&gt;Alzi le ...|\n",
            "|&lt;p&gt;In itali...|\n",
            "|&lt;p&gt;La mucca...|\n",
            "|&lt;p&gt;In itali...|\n",
            "|&lt;p&gt;In itali...|\n",
            "|&lt;p&gt;Non ries...|\n",
            "|&lt;p&gt;Attenzio...|\n",
            "|&lt;p&gt;&quot;A ...|\n",
            "|&lt;p&gt;Presumo ...|\n",
            "|&lt;p&gt;se &lt;e...|\n",
            "|&lt;p&gt;I used t...|\n",
            "|&lt;p&gt;&lt;a hr...|\n",
            "|&lt;p&gt;Entrambe...|\n",
            "|&lt;p&gt;Qualcuno...|\n",
            "|&lt;p&gt;Mi chied...|\n",
            "|&lt;p&gt;La spieg...|\n",
            "|&lt;p&gt;There is...|\n",
            "|&lt;p&gt;No, 'ave...|\n",
            "|&lt;p&gt;Un &lt;a...|\n",
            "|&lt;p&gt;There is...|\n",
            "|&lt;p&gt;Secondo ...|\n",
            "|&lt;p&gt;La doman...|\n",
            "|&lt;p&gt;Due to t...|\n",
            "|&lt;p&gt;Prima di...|\n",
            "|&lt;p&gt;So che l...|\n",
            "|&lt;p&gt;While th...|\n",
            "|&lt;p&gt;Personal...|\n",
            "|&lt;p&gt;From the...|\n",
            "|&lt;p&gt;&lt;stro...|\n",
            "|&lt;p&gt;Both pai...|\n",
            "|&lt;p&gt;No, plur...|\n",
            "|&lt;p&gt;From the...|\n",
            "|&lt;p&gt;In &lt;e...|\n",
            "|&lt;p&gt;Ogni lin...|\n",
            "|&lt;p&gt;Ci sono ...|\n",
            "|&lt;p&gt;Innanzit...|\n",
            "|&lt;p&gt;It is an...|\n",
            "|&lt;p&gt;Qual è l...|\n",
            "|&lt;p&gt;Accordin...|\n",
            "|&lt;p&gt;Corretto...|\n",
            "|&lt;p&gt;Per quan...|\n",
            "|&lt;p&gt;Premesso...|\n",
            "|&lt;p&gt;What is ...|\n",
            "|&lt;p&gt;&quot;Co...|\n",
            "|&lt;p&gt;La frase...|\n",
            "|&lt;p&gt;If you a...|\n",
            "|&lt;p&gt;«In ital...|\n",
            "|&lt;p&gt;In itali...|\n",
            "|&lt;blockquote&gt...|\n",
            "|&lt;p&gt;«Chi che...|\n",
            "|&lt;p&gt;In itali...|\n",
            "|&lt;p&gt;&quot;&l...|\n",
            "|&lt;p&gt;Ecco una...|\n",
            "|&lt;p&gt;La rispo...|\n",
            "|&lt;p&gt;In itali...|\n",
            "|&lt;p&gt;Il cugin...|\n",
            "|&lt;p&gt;I would ...|\n",
            "|&lt;p&gt;Benché, ...|\n",
            "|&lt;p&gt;Ho trova...|\n",
            "|&lt;p&gt;Altre li...|\n",
            "|&lt;p&gt;Frequent...|\n",
            "|&lt;p&gt;&lt;em&g...|\n",
            "|&lt;p&gt;Sono int...|\n",
            "|&lt;p&gt;Qualcuno...|\n",
            "|&lt;p&gt;Mi sono ...|\n",
            "|&lt;p&gt;&quot;&l...|\n",
            "|&lt;p&gt;Secondo ...|\n",
            "|&lt;p&gt;In Itali...|\n",
            "|&lt;p&gt;In itali...|\n",
            "|&lt;p&gt;Si posso...|\n",
            "|&lt;p&gt;Leggendo...|\n",
            "|&lt;p&gt;Il nome ...|\n",
            "|&lt;p&gt;Come sap...|\n",
            "|&lt;p&gt;It seems...|\n",
            "|&lt;p&gt;&quot;&l...|\n",
            "|&lt;p&gt;Ciò dipe...|\n",
            "|&lt;p&gt;Spero di...|\n",
            "|&lt;p&gt;Mettendo...|\n",
            "|&lt;p&gt;There is...|\n",
            "|&lt;p&gt;I think ...|\n",
            "+--------------------+\n",
            "\n",
            "None\n"
          ],
          "name": "stdout"
        }
      ]
    },
    {
      "cell_type": "markdown",
      "metadata": {
        "id": "iP3DPQNz7wVn"
      },
      "source": [
        "###Zadatak 2\n",
        "Prebrojati koliko postova koji su pitanje nemaju prihvaćen odgovor"
      ]
    },
    {
      "cell_type": "code",
      "metadata": {
        "outputId": "427b772d-cbf4-40f1-98ca-d87fbf87754b",
        "id": "rml5Od0w7v1h",
        "colab": {
          "base_uri": "https://localhost:8080/",
          "height": 35
        }
      },
      "source": [
        "postsDF.filter('(postTypeId == 1) and (acceptedAnswerId is null)').count()"
      ],
      "execution_count": null,
      "outputs": [
        {
          "output_type": "execute_result",
          "data": {
            "text/plain": [
              "0"
            ]
          },
          "metadata": {
            "tags": []
          },
          "execution_count": 54
        }
      ]
    },
    {
      "cell_type": "markdown",
      "metadata": {
        "id": "AdIZvPQs7vRL"
      },
      "source": [
        "###Zadatak 3\n",
        "Promeniti naziv kolone ownerUserId u owner"
      ]
    },
    {
      "cell_type": "code",
      "metadata": {
        "outputId": "063c5db8-b994-446e-cdfb-80c2ab9f11be",
        "id": "iaYiOjsk7uop",
        "colab": {
          "base_uri": "https://localhost:8080/",
          "height": 219
        }
      },
      "source": [
        "postsDF2 = postsDF.withColumnRenamed(\"ownerUserId\", \"owner\")\n",
        "postsDF2.show(5)"
      ],
      "execution_count": null,
      "outputs": [
        {
          "output_type": "stream",
          "text": [
            "+------------+--------------------+-----+--------------------+-----+--------------------+---------+--------------------+--------------------+-----------+----------------+----------+----+\n",
            "|commentCount|    lastActivityDate|owner|                body|score|        creationDate|viewCount|               title|                tags|answerCount|acceptedAnswerId|postTypeId|  id|\n",
            "+------------+--------------------+-----+--------------------+-----+--------------------+---------+--------------------+--------------------+-----------+----------------+----------+----+\n",
            "|        null|                null| null|                null| null|                null|     null|                null|                null|       null|            null|      null|null|\n",
            "|        null|                null| null|                null| null|                null|     null|                null|                null|       null|            null|      null|null|\n",
            "|        null|                null| null|                null| null|                null|     null|                null|                null|       null|            null|      null|null|\n",
            "|           1|2014-07-25 13:15:...|  154|&lt;p&gt;As part ...|   11|2013-11-10 22:03:...|      187|Ironic constructi...|&lt;english-compa...|          4|            1170|         1|1168|\n",
            "|        null|                null| null|                null| null|                null|     null|                null|                null|       null|            null|      null|null|\n",
            "+------------+--------------------+-----+--------------------+-----+--------------------+---------+--------------------+--------------------+-----------+----------------+----------+----+\n",
            "only showing top 5 rows\n",
            "\n"
          ],
          "name": "stdout"
        }
      ]
    },
    {
      "cell_type": "markdown",
      "metadata": {
        "id": "Svp8XJt47t-5"
      },
      "source": [
        "###Zadatak 4\n",
        "Dodati kolonu \"ratio\" koja sadrži odnos viewsCount/score"
      ]
    },
    {
      "cell_type": "code",
      "metadata": {
        "outputId": "dfa7034b-2262-4e25-87b7-21d892944d0a",
        "id": "Ojc7Ozf_7tNc",
        "colab": {
          "base_uri": "https://localhost:8080/",
          "height": 515
        }
      },
      "source": [
        "ratioDF = postsDF2.withColumn(\"ratio\", postsDF2.viewCount / postsDF2.score)\n",
        "ratioDF.show()"
      ],
      "execution_count": null,
      "outputs": [
        {
          "output_type": "stream",
          "text": [
            "+------------+--------------------+-----+--------------------+-----+--------------------+---------+--------------------+--------------------+-----------+----------------+----------+----+------------------+\n",
            "|commentCount|    lastActivityDate|owner|                body|score|        creationDate|viewCount|               title|                tags|answerCount|acceptedAnswerId|postTypeId|  id|             ratio|\n",
            "+------------+--------------------+-----+--------------------+-----+--------------------+---------+--------------------+--------------------+-----------+----------------+----------+----+------------------+\n",
            "|        null|                null| null|                null| null|                null|     null|                null|                null|       null|            null|      null|null|              null|\n",
            "|        null|                null| null|                null| null|                null|     null|                null|                null|       null|            null|      null|null|              null|\n",
            "|        null|                null| null|                null| null|                null|     null|                null|                null|       null|            null|      null|null|              null|\n",
            "|           1|2014-07-25 13:15:...|  154|&lt;p&gt;As part ...|   11|2013-11-10 22:03:...|      187|Ironic constructi...|&lt;english-compa...|          4|            1170|         1|1168|              17.0|\n",
            "|        null|                null| null|                null| null|                null|     null|                null|                null|       null|            null|      null|null|              null|\n",
            "|        null|                null| null|                null| null|                null|     null|                null|                null|       null|            null|      null|null|              null|\n",
            "|        null|                null| null|                null| null|                null|     null|                null|                null|       null|            null|      null|null|              null|\n",
            "|        null|                null| null|                null| null|                null|     null|                null|                null|       null|            null|      null|null|              null|\n",
            "|           9|2014-01-05 11:13:...|   63|&lt;p&gt;When I w...|    5|2013-11-11 10:28:...|      122|Is &quot;scancell...|&lt;usage&gt;&lt;...|          3|            1181|         1|1173|              24.4|\n",
            "|        null|                null| null|                null| null|                null|     null|                null|                null|       null|            null|      null|null|              null|\n",
            "|           1|2014-01-16 19:56:...|   63|&lt;p&gt;Suppose ...|    4|2013-11-11 11:31:...|      114|How should I tran...|&lt;usage&gt;&lt;...|          2|            1177|         1|1175|              28.5|\n",
            "|           0|2013-11-11 14:36:...|   63|&lt;p&gt;Except w...|    3|2013-11-11 11:39:...|       58|Using a comma bet...|&lt;usage&gt;&lt;...|          2|            1182|         1|1176|19.333333333333332|\n",
            "|        null|                null| null|                null| null|                null|     null|                null|                null|       null|            null|      null|null|              null|\n",
            "|        null|                null| null|                null| null|                null|     null|                null|                null|       null|            null|      null|null|              null|\n",
            "|           0|2013-11-12 11:24:...|   63|&lt;p&gt;Comparin...|    3|2013-11-11 12:58:...|       60|Using the conditi...|&lt;usage&gt;&lt;...|          2|            1180|         1|1179|              20.0|\n",
            "|        null|                null| null|                null| null|                null|     null|                null|                null|       null|            null|      null|null|              null|\n",
            "|        null|                null| null|                null| null|                null|     null|                null|                null|       null|            null|      null|null|              null|\n",
            "|        null|                null| null|                null| null|                null|     null|                null|                null|       null|            null|      null|null|              null|\n",
            "|           2|2013-11-14 09:56:...|   22|&lt;p&gt;Many peo...|    6|2013-11-11 14:43:...|      321|Can Dante Alighie...|&lt;history&gt;&l...|          1|            1263|         1|1183|              53.5|\n",
            "|           2|2013-11-11 23:23:...|  159|&lt;p&gt;Sono un'...|    7|2013-11-11 18:19:...|      138|origine dell'espr...|&lt;idioms&gt;&lt...|          2|            1185|         1|1184|19.714285714285715|\n",
            "+------------+--------------------+-----+--------------------+-----+--------------------+---------+--------------------+--------------------+-----------+----------------+----------+----+------------------+\n",
            "only showing top 20 rows\n",
            "\n"
          ],
          "name": "stdout"
        }
      ]
    },
    {
      "cell_type": "markdown",
      "metadata": {
        "id": "4u_ZnceU7so3"
      },
      "source": [
        "###Zadatak 5\n",
        "Selektovati 10 pitanja koja su poslednja azurirana"
      ]
    },
    {
      "cell_type": "code",
      "metadata": {
        "outputId": "1538f031-eac4-46bb-eef7-a1cd97f8fc36",
        "id": "b_bNh7GF7r2P",
        "colab": {
          "base_uri": "https://localhost:8080/",
          "height": 313
        }
      },
      "source": [
        "ratioDF.sort(ratioDF.lastActivityDate.desc()).limit(10).show()"
      ],
      "execution_count": null,
      "outputs": [
        {
          "output_type": "stream",
          "text": [
            "+------------+--------------------+-----+--------------------+-----+--------------------+---------+--------------------+--------------------+-----------+----------------+----------+----+-----+\n",
            "|commentCount|    lastActivityDate|owner|                body|score|        creationDate|viewCount|               title|                tags|answerCount|acceptedAnswerId|postTypeId|  id|ratio|\n",
            "+------------+--------------------+-----+--------------------+-----+--------------------+---------+--------------------+--------------------+-----------+----------------+----------+----+-----+\n",
            "|           2|2014-09-13 22:25:...|  707|&lt;p&gt;Ho osser...|    3|2014-09-12 09:44:...|      102|Perché a volte si...|&lt;orthography&g...|          1|            2344|         1|2343| 34.0|\n",
            "|           0|2014-09-12 10:55:...|    8|&lt;p&gt;Wikipedi...|   10|2013-11-20 16:42:...|      145|Plural form of &q...|&lt;orthography&g...|          5|            1336|         1|1321| 14.5|\n",
            "|           1|2014-09-12 07:32:...|  523|&lt;p&gt;After li...|    2|2014-09-11 17:57:...|       40|“Che t'aggia di'”...|&lt;word-meaning&...|          1|            2342|         1|2341| 20.0|\n",
            "|           0|2014-09-11 20:33:...|  765|&lt;p&gt;Alcune p...|    4|2014-07-28 18:45:...|       66|Cambio genere al ...|&lt;etymology&gt;...|          1|            2134|         1|2133| 16.5|\n",
            "|           0|2014-09-11 16:03:...|  707|&lt;p&gt;Sapresti...|    4|2014-09-11 14:45:...|       20|Origine di &quot;...|   &lt;etymology&gt;|          1|            2340|         1|2339|  5.0|\n",
            "|           3|2014-09-11 14:37:...|   63|&lt;p&gt;The plur...|    5|2013-11-12 13:34:...|       59|Why is the plural...|&lt;plural&gt;&lt...|          1|            1227|         1|1221| 11.8|\n",
            "|           8|2014-09-11 12:32:...|  785|&lt;p&gt;I wish t...|    2|2014-09-03 01:42:...|       89|Is it correct to ...|&lt;idioms&gt;&lt...|          2|            2308|         1|2304| 44.5|\n",
            "|           3|2014-09-11 06:40:...|  785|&lt;p&gt;In Engli...|    3|2014-09-10 05:53:...|      465|How can I get on ...|&lt;idioms&gt;&lt...|          2|            2333|         1|2332|155.0|\n",
            "|           5|2014-09-10 15:18:...|  591|&lt;p&gt;Nel parl...|    4|2014-09-10 02:16:...|       52|In &quot;martire ...|&lt;word-usage&gt...|          1|            2336|         1|2331| 13.0|\n",
            "|           4|2014-09-09 08:54:...|   63|&lt;p&gt;Some wor...|    4|2013-11-12 11:03:...|       80|When is the lette...|&lt;nouns&gt;&lt;...|          2|            1207|         1|1205| 20.0|\n",
            "+------------+--------------------+-----+--------------------+-----+--------------------+---------+--------------------+--------------------+-----------+----------------+----------+----+-----+\n",
            "\n"
          ],
          "name": "stdout"
        }
      ]
    },
    {
      "cell_type": "markdown",
      "metadata": {
        "id": "FEryG42H7q0l"
      },
      "source": [
        "###Zadatak 6\n",
        "Pronaći post koji je tipa pitanje i bio je najduže aktivan (najveća je razlika između datuma kreiranja i vremena poslednje aktivnosti)"
      ]
    },
    {
      "cell_type": "code",
      "metadata": {
        "outputId": "db2e9a3b-d2da-4031-ac6a-acc56f1084b2",
        "id": "9kz_qIYl7qR_",
        "colab": {
          "base_uri": "https://localhost:8080/",
          "height": 166
        }
      },
      "source": [
        "import pyspark.sql.functions as f\n",
        "activeDF = ratioDF.filter(ratioDF.postTypeId == 1).withColumn('activeFor', f.datediff(ratioDF.lastActivityDate, ratioDF.creationDate))\n",
        "activeDF.sort(activeDF.activeFor.desc()).show(1)"
      ],
      "execution_count": null,
      "outputs": [
        {
          "output_type": "stream",
          "text": [
            "+------------+--------------------+-----+--------------------+-----+--------------------+---------+--------------------+--------------------+-----------+----------------+----------+----+-----+---------+\n",
            "|commentCount|    lastActivityDate|owner|                body|score|        creationDate|viewCount|               title|                tags|answerCount|acceptedAnswerId|postTypeId|  id|ratio|activeFor|\n",
            "+------------+--------------------+-----+--------------------+-----+--------------------+---------+--------------------+--------------------+-----------+----------------+----------+----+-----+---------+\n",
            "|           3|2014-09-11 14:37:...|   63|&lt;p&gt;The plur...|    5|2013-11-12 13:34:...|       59|Why is the plural...|&lt;plural&gt;&lt...|          1|            1227|         1|1221| 11.8|      303|\n",
            "+------------+--------------------+-----+--------------------+-----+--------------------+---------+--------------------+--------------------+-----------+----------------+----------+----+-----+---------+\n",
            "only showing top 1 row\n",
            "\n"
          ],
          "name": "stdout"
        }
      ]
    },
    {
      "cell_type": "markdown",
      "metadata": {
        "id": "sgf578Do7p1T"
      },
      "source": [
        "###Zadatak 7\n",
        "Prikazati prosečan i maksimalna skor za postove koji su tipa pitanje"
      ]
    },
    {
      "cell_type": "code",
      "metadata": {
        "outputId": "9366f7c6-f737-49cd-d1e9-0edb36801308",
        "id": "dDExezKA7pdd",
        "colab": {
          "base_uri": "https://localhost:8080/",
          "height": 54
        }
      },
      "source": [
        "qDF = ratioDF.filter(ratioDF.postTypeId == 1)\n",
        "print(qDF.agg(f.avg(qDF.score)).collect())\n",
        "print(qDF.agg(f.max(qDF.score)).collect())"
      ],
      "execution_count": null,
      "outputs": [
        {
          "output_type": "stream",
          "text": [
            "[Row(avg(score)=4.735294117647059)]\n",
            "[Row(max(score)=20)]\n"
          ],
          "name": "stdout"
        }
      ]
    },
    {
      "cell_type": "markdown",
      "metadata": {
        "id": "-M1PuD_t7pCe"
      },
      "source": [
        "###Zadatak 8\n",
        "popuniti u koloni viewCount null vrednost sa vrednošću 0"
      ]
    },
    {
      "cell_type": "code",
      "metadata": {
        "outputId": "f536c4ab-bfd4-4c20-8adc-8a68b7058fbb",
        "id": "PeG_jLup7omm",
        "colab": {
          "base_uri": "https://localhost:8080/",
          "height": 515
        }
      },
      "source": [
        "vcDF = ratioDF.fillna({'viewCount': 0})\n",
        "vcDF.show()"
      ],
      "execution_count": null,
      "outputs": [
        {
          "output_type": "stream",
          "text": [
            "+------------+--------------------+-----+--------------------+-----+--------------------+---------+--------------------+--------------------+-----------+----------------+----------+----+------------------+\n",
            "|commentCount|    lastActivityDate|owner|                body|score|        creationDate|viewCount|               title|                tags|answerCount|acceptedAnswerId|postTypeId|  id|             ratio|\n",
            "+------------+--------------------+-----+--------------------+-----+--------------------+---------+--------------------+--------------------+-----------+----------------+----------+----+------------------+\n",
            "|        null|                null| null|                null| null|                null|        0|                null|                null|       null|            null|      null|null|              null|\n",
            "|        null|                null| null|                null| null|                null|        0|                null|                null|       null|            null|      null|null|              null|\n",
            "|        null|                null| null|                null| null|                null|        0|                null|                null|       null|            null|      null|null|              null|\n",
            "|           1|2014-07-25 13:15:...|  154|&lt;p&gt;As part ...|   11|2013-11-10 22:03:...|      187|Ironic constructi...|&lt;english-compa...|          4|            1170|         1|1168|              17.0|\n",
            "|        null|                null| null|                null| null|                null|        0|                null|                null|       null|            null|      null|null|              null|\n",
            "|        null|                null| null|                null| null|                null|        0|                null|                null|       null|            null|      null|null|              null|\n",
            "|        null|                null| null|                null| null|                null|        0|                null|                null|       null|            null|      null|null|              null|\n",
            "|        null|                null| null|                null| null|                null|        0|                null|                null|       null|            null|      null|null|              null|\n",
            "|           9|2014-01-05 11:13:...|   63|&lt;p&gt;When I w...|    5|2013-11-11 10:28:...|      122|Is &quot;scancell...|&lt;usage&gt;&lt;...|          3|            1181|         1|1173|              24.4|\n",
            "|        null|                null| null|                null| null|                null|        0|                null|                null|       null|            null|      null|null|              null|\n",
            "|           1|2014-01-16 19:56:...|   63|&lt;p&gt;Suppose ...|    4|2013-11-11 11:31:...|      114|How should I tran...|&lt;usage&gt;&lt;...|          2|            1177|         1|1175|              28.5|\n",
            "|           0|2013-11-11 14:36:...|   63|&lt;p&gt;Except w...|    3|2013-11-11 11:39:...|       58|Using a comma bet...|&lt;usage&gt;&lt;...|          2|            1182|         1|1176|19.333333333333332|\n",
            "|        null|                null| null|                null| null|                null|        0|                null|                null|       null|            null|      null|null|              null|\n",
            "|        null|                null| null|                null| null|                null|        0|                null|                null|       null|            null|      null|null|              null|\n",
            "|           0|2013-11-12 11:24:...|   63|&lt;p&gt;Comparin...|    3|2013-11-11 12:58:...|       60|Using the conditi...|&lt;usage&gt;&lt;...|          2|            1180|         1|1179|              20.0|\n",
            "|        null|                null| null|                null| null|                null|        0|                null|                null|       null|            null|      null|null|              null|\n",
            "|        null|                null| null|                null| null|                null|        0|                null|                null|       null|            null|      null|null|              null|\n",
            "|        null|                null| null|                null| null|                null|        0|                null|                null|       null|            null|      null|null|              null|\n",
            "|           2|2013-11-14 09:56:...|   22|&lt;p&gt;Many peo...|    6|2013-11-11 14:43:...|      321|Can Dante Alighie...|&lt;history&gt;&l...|          1|            1263|         1|1183|              53.5|\n",
            "|           2|2013-11-11 23:23:...|  159|&lt;p&gt;Sono un'...|    7|2013-11-11 18:19:...|      138|origine dell'espr...|&lt;idioms&gt;&lt...|          2|            1185|         1|1184|19.714285714285715|\n",
            "+------------+--------------------+-----+--------------------+-----+--------------------+---------+--------------------+--------------------+-----------+----------------+----------+----+------------------+\n",
            "only showing top 20 rows\n",
            "\n"
          ],
          "name": "stdout"
        }
      ]
    },
    {
      "cell_type": "markdown",
      "metadata": {
        "id": "pFFJeQnS7oPL"
      },
      "source": [
        "###Zadatak 9\n",
        "Prikazati ukupan broj postova za svakog autora"
      ]
    },
    {
      "cell_type": "code",
      "metadata": {
        "outputId": "3db047ff-f058-4bdd-dd09-74ce79220beb",
        "id": "ml9vNeLt7nUD",
        "colab": {
          "base_uri": "https://localhost:8080/",
          "height": 1000
        }
      },
      "source": [
        "ratioDF.filter(ratioDF.owner.isNotNull()).groupBy('owner').count().collect()"
      ],
      "execution_count": null,
      "outputs": [
        {
          "output_type": "execute_result",
          "data": {
            "text/plain": [
              "[Row(owner=833, count=3),\n",
              " Row(owner=623, count=1),\n",
              " Row(owner=516, count=1),\n",
              " Row(owner=85, count=2),\n",
              " Row(owner=808, count=12),\n",
              " Row(owner=580, count=2),\n",
              " Row(owner=53, count=2),\n",
              " Row(owner=804, count=1),\n",
              " Row(owner=799, count=2),\n",
              " Row(owner=133, count=1),\n",
              " Row(owner=633, count=1),\n",
              " Row(owner=375, count=4),\n",
              " Row(owner=683, count=1),\n",
              " Row(owner=744, count=1),\n",
              " Row(owner=193, count=90),\n",
              " Row(owner=796, count=1),\n",
              " Row(owner=497, count=7),\n",
              " Row(owner=300, count=2),\n",
              " Row(owner=842, count=1),\n",
              " Row(owner=501, count=1),\n",
              " Row(owner=626, count=1),\n",
              " Row(owner=159, count=5),\n",
              " Row(owner=606, count=8),\n",
              " Row(owner=806, count=1),\n",
              " Row(owner=103, count=1),\n",
              " Row(owner=12, count=109),\n",
              " Row(owner=223, count=14),\n",
              " Row(owner=388, count=1),\n",
              " Row(owner=91, count=1),\n",
              " Row(owner=663, count=1),\n",
              " Row(owner=707, count=40),\n",
              " Row(owner=22, count=44),\n",
              " Row(owner=685, count=1),\n",
              " Row(owner=230, count=3),\n",
              " Row(owner=190, count=6),\n",
              " Row(owner=232, count=1),\n",
              " Row(owner=360, count=1),\n",
              " Row(owner=725, count=8),\n",
              " Row(owner=855, count=1),\n",
              " Row(owner=599, count=3),\n",
              " Row(owner=224, count=8),\n",
              " Row(owner=519, count=15),\n",
              " Row(owner=132, count=13),\n",
              " Row(owner=291, count=1),\n",
              " Row(owner=435, count=1),\n",
              " Row(owner=581, count=4),\n",
              " Row(owner=259, count=1),\n",
              " Row(owner=797, count=4),\n",
              " Row(owner=768, count=1),\n",
              " Row(owner=212, count=2),\n",
              " Row(owner=674, count=3),\n",
              " Row(owner=13, count=1),\n",
              " Row(owner=218, count=5),\n",
              " Row(owner=280, count=1),\n",
              " Row(owner=348, count=1),\n",
              " Row(owner=440, count=1),\n",
              " Row(owner=6, count=2),\n",
              " Row(owner=572, count=2),\n",
              " Row(owner=178, count=1),\n",
              " Row(owner=283, count=2),\n",
              " Row(owner=139, count=2),\n",
              " Row(owner=295, count=1),\n",
              " Row(owner=340, count=5),\n",
              " Row(owner=431, count=1),\n",
              " Row(owner=250, count=1),\n",
              " Row(owner=377, count=6),\n",
              " Row(owner=57, count=10),\n",
              " Row(owner=570, count=1),\n",
              " Row(owner=292, count=1),\n",
              " Row(owner=676, count=1),\n",
              " Row(owner=120, count=1),\n",
              " Row(owner=559, count=1),\n",
              " Row(owner=634, count=3),\n",
              " Row(owner=235, count=4),\n",
              " Row(owner=846, count=1),\n",
              " Row(owner=545, count=1),\n",
              " Row(owner=776, count=1),\n",
              " Row(owner=48, count=3),\n",
              " Row(owner=5, count=10),\n",
              " Row(owner=279, count=6),\n",
              " Row(owner=729, count=1),\n",
              " Row(owner=19, count=13),\n",
              " Row(owner=553, count=1),\n",
              " Row(owner=415, count=6),\n",
              " Row(owner=227, count=2),\n",
              " Row(owner=504, count=1),\n",
              " Row(owner=598, count=10),\n",
              " Row(owner=764, count=1),\n",
              " Row(owner=154, count=1),\n",
              " Row(owner=425, count=1),\n",
              " Row(owner=41, count=2),\n",
              " Row(owner=845, count=1),\n",
              " Row(owner=15, count=2),\n",
              " Row(owner=358, count=1),\n",
              " Row(owner=189, count=8),\n",
              " Row(owner=179, count=4),\n",
              " Row(owner=489, count=1),\n",
              " Row(owner=862, count=1),\n",
              " Row(owner=590, count=1),\n",
              " Row(owner=37, count=64),\n",
              " Row(owner=659, count=6),\n",
              " Row(owner=61, count=1),\n",
              " Row(owner=523, count=14),\n",
              " Row(owner=88, count=4),\n",
              " Row(owner=202, count=2),\n",
              " Row(owner=374, count=1),\n",
              " Row(owner=17, count=31),\n",
              " Row(owner=324, count=1),\n",
              " Row(owner=746, count=1),\n",
              " Row(owner=614, count=1),\n",
              " Row(owner=677, count=1),\n",
              " Row(owner=739, count=2),\n",
              " Row(owner=310, count=1),\n",
              " Row(owner=437, count=2),\n",
              " Row(owner=456, count=2),\n",
              " Row(owner=217, count=1),\n",
              " Row(owner=229, count=3),\n",
              " Row(owner=307, count=1),\n",
              " Row(owner=114, count=2),\n",
              " Row(owner=220, count=1),\n",
              " Row(owner=813, count=1),\n",
              " Row(owner=4, count=2),\n",
              " Row(owner=445, count=2),\n",
              " Row(owner=8, count=146),\n",
              " Row(owner=679, count=2),\n",
              " Row(owner=176, count=7),\n",
              " Row(owner=380, count=2),\n",
              " Row(owner=672, count=1),\n",
              " Row(owner=736, count=1),\n",
              " Row(owner=624, count=1),\n",
              " Row(owner=720, count=1),\n",
              " Row(owner=87, count=6),\n",
              " Row(owner=585, count=1),\n",
              " Row(owner=465, count=1),\n",
              " Row(owner=794, count=1),\n",
              " Row(owner=391, count=4),\n",
              " Row(owner=438, count=1),\n",
              " Row(owner=129, count=1),\n",
              " Row(owner=448, count=1),\n",
              " Row(owner=234, count=3),\n",
              " Row(owner=63, count=53),\n",
              " Row(owner=779, count=1),\n",
              " Row(owner=509, count=1),\n",
              " Row(owner=77, count=6),\n",
              " Row(owner=814, count=1),\n",
              " Row(owner=589, count=7),\n",
              " Row(owner=10, count=1),\n",
              " Row(owner=527, count=1),\n",
              " Row(owner=569, count=1),\n",
              " Row(owner=812, count=1),\n",
              " Row(owner=320, count=2),\n",
              " Row(owner=82, count=6),\n",
              " Row(owner=703, count=1),\n",
              " Row(owner=591, count=12),\n",
              " Row(owner=73, count=2),\n",
              " Row(owner=645, count=1),\n",
              " Row(owner=70, count=52),\n",
              " Row(owner=121, count=2),\n",
              " Row(owner=730, count=1),\n",
              " Row(owner=351, count=2),\n",
              " Row(owner=219, count=2),\n",
              " Row(owner=95, count=34),\n",
              " Row(owner=741, count=1),\n",
              " Row(owner=323, count=1),\n",
              " Row(owner=338, count=2),\n",
              " Row(owner=492, count=1),\n",
              " Row(owner=98, count=7),\n",
              " Row(owner=714, count=6),\n",
              " Row(owner=490, count=2),\n",
              " Row(owner=809, count=1),\n",
              " Row(owner=75, count=2),\n",
              " Row(owner=835, count=1),\n",
              " Row(owner=662, count=1),\n",
              " Row(owner=341, count=6),\n",
              " Row(owner=608, count=2),\n",
              " Row(owner=334, count=2),\n",
              " Row(owner=801, count=1),\n",
              " Row(owner=751, count=3),\n",
              " Row(owner=145, count=4),\n",
              " Row(owner=56, count=5),\n",
              " Row(owner=228, count=1),\n",
              " Row(owner=213, count=3),\n",
              " Row(owner=749, count=2),\n",
              " Row(owner=204, count=3),\n",
              " Row(owner=421, count=4),\n",
              " Row(owner=413, count=1),\n",
              " Row(owner=71, count=2),\n",
              " Row(owner=68, count=4),\n",
              " Row(owner=567, count=1),\n",
              " Row(owner=525, count=3),\n",
              " Row(owner=116, count=1),\n",
              " Row(owner=198, count=1),\n",
              " Row(owner=805, count=1),\n",
              " Row(owner=546, count=1),\n",
              " Row(owner=14, count=2),\n",
              " Row(owner=424, count=1),\n",
              " Row(owner=373, count=1),\n",
              " Row(owner=199, count=1),\n",
              " Row(owner=158, count=1),\n",
              " Row(owner=270, count=2),\n",
              " Row(owner=135, count=2),\n",
              " Row(owner=466, count=1),\n",
              " Row(owner=119, count=1),\n",
              " Row(owner=79, count=5),\n",
              " Row(owner=803, count=2),\n",
              " Row(owner=765, count=1),\n",
              " Row(owner=124, count=3),\n",
              " Row(owner=281, count=16),\n",
              " Row(owner=99, count=2),\n",
              " Row(owner=535, count=1),\n",
              " Row(owner=785, count=10),\n",
              " Row(owner=18, count=31),\n",
              " Row(owner=483, count=1),\n",
              " Row(owner=656, count=1),\n",
              " Row(owner=134, count=3),\n",
              " Row(owner=407, count=5),\n",
              " Row(owner=521, count=1),\n",
              " Row(owner=393, count=1)]"
            ]
          },
          "metadata": {
            "tags": []
          },
          "execution_count": 84
        }
      ]
    }
  ]
}